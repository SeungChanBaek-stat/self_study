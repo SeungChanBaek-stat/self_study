{
 "cells": [
  {
   "cell_type": "markdown",
   "metadata": {},
   "source": [
    "# Chapter 02 파이썬 기초 문법과 데이터 형식"
   ]
  },
  {
   "cell_type": "markdown",
   "metadata": {},
   "source": [
    "## Section 00 파이썬 이름 이야기\n",
    "프로그래밍 언어인 파이썬은 '귀도 반 로썸'이라는 프로그래머가 개발했다. 요즘 인공지능과 함께 인기가 급상승한 프로그래밍 언어이다."
   ]
  },
  {
   "cell_type": "markdown",
   "metadata": {},
   "source": [
    "## Section 01 파이썬의 기초 문법\n",
    "\n",
    "자료구조와 알고리즘의 개념을 파이썬으로 구현하려면 파이썬을 어느 정도 익숙하게 사용할 수 있어야 한다. 파이썬만 배우는 데도 책 한 권 이상 필요하므로, 여기에서는 자료구조나 알고리즘을 구현하는 필수 문법만 빠르게 살펴보자."
   ]
  },
  {
   "cell_type": "markdown",
   "metadata": {},
   "source": [
    "### 1 변수와 print()함수"
   ]
  },
  {
   "cell_type": "markdown",
   "metadata": {},
   "source": [
    "$\\textbf{변수 선언}$\n",
    "\n",
    "변수는 어떤 값을 저장하는 메모리 공간이다. 대개 메모리 공간을 준비하는 과정에 해당하는 변수 선언이라는 과정이 필요하지만 파이썬은 별도의 변수 선언이 필요 없다. 다음 예처럼 한 행이나 여러 행에 나누어 변수에 값을 대입하는 순간 변수를 선언하는 효과가 생긴다."
   ]
  },
  {
   "cell_type": "code",
   "execution_count": 33,
   "metadata": {},
   "outputs": [],
   "source": [
    "boolVar, intVar, floatVar, strVar = True, 0, 0.0, \"\""
   ]
  },
  {
   "cell_type": "code",
   "execution_count": 34,
   "metadata": {},
   "outputs": [],
   "source": [
    "boolVar = True\n",
    "int\n",
    "floatVar = 0.0\n",
    "strVar = \"\""
   ]
  },
  {
   "cell_type": "code",
   "execution_count": 35,
   "metadata": {},
   "outputs": [
    {
     "data": {
      "text/plain": [
       "(bool, int, float, str)"
      ]
     },
     "execution_count": 35,
     "metadata": {},
     "output_type": "execute_result"
    }
   ],
   "source": [
    "type(boolVar), type(intVar), type(floatVar), type(strVar)"
   ]
  },
  {
   "cell_type": "markdown",
   "metadata": {},
   "source": [
    "$\\textbf{print() 함수}$\n",
    "\n",
    "print() 함수를 사용하여 서식을 지정하고 출력하는 방법을 살펴보자."
   ]
  },
  {
   "cell_type": "code",
   "execution_count": 36,
   "metadata": {},
   "outputs": [
    {
     "name": "stdout",
     "output_type": "stream",
     "text": [
      "안녕하세요?\n"
     ]
    }
   ],
   "source": [
    "print(\"안녕하세요?\")"
   ]
  },
  {
   "cell_type": "code",
   "execution_count": 37,
   "metadata": {},
   "outputs": [
    {
     "name": "stdout",
     "output_type": "stream",
     "text": [
      "100\n",
      "100\n"
     ]
    }
   ],
   "source": [
    "print(\"100\")\n",
    "print(\"%d\" % 100)"
   ]
  },
  {
   "cell_type": "code",
   "execution_count": 38,
   "metadata": {},
   "outputs": [
    {
     "name": "stdout",
     "output_type": "stream",
     "text": [
      "100+100\n",
      "200\n"
     ]
    }
   ],
   "source": [
    "print(\"100+100\")\n",
    "print(\"%d\" % (100+100))"
   ]
  },
  {
   "cell_type": "code",
   "execution_count": 39,
   "metadata": {},
   "outputs": [
    {
     "name": "stdout",
     "output_type": "stream",
     "text": [
      "100 200\n",
      "(100, 200)\n"
     ]
    }
   ],
   "source": [
    "print(\"%d %d\" % (100, 200))\n",
    "print(\"(%d, %d)\" % (100, 200))"
   ]
  },
  {
   "cell_type": "markdown",
   "metadata": {},
   "source": [
    "$\\textbf{input() 함수}$\n",
    "\n",
    "input() 함수는 키보드로 값을 입력받는데, 일반적으로 입력된 값은 변수로 저장한다. 다음을 실행하고 100과 200을 입력해 보자."
   ]
  },
  {
   "cell_type": "code",
   "execution_count": 40,
   "metadata": {},
   "outputs": [],
   "source": [
    "var1, var2 = input(), input()"
   ]
  },
  {
   "cell_type": "code",
   "execution_count": 41,
   "metadata": {},
   "outputs": [
    {
     "name": "stdout",
     "output_type": "stream",
     "text": [
      "\n"
     ]
    }
   ],
   "source": [
    "print(var1 + var2)"
   ]
  },
  {
   "cell_type": "code",
   "execution_count": null,
   "metadata": {},
   "outputs": [],
   "source": [
    "var1, var2 = int(input()), int(input())"
   ]
  },
  {
   "cell_type": "code",
   "execution_count": null,
   "metadata": {},
   "outputs": [
    {
     "name": "stdout",
     "output_type": "stream",
     "text": [
      "300\n"
     ]
    }
   ],
   "source": [
    "print(var1 + var2)"
   ]
  },
  {
   "cell_type": "code",
   "execution_count": null,
   "metadata": {},
   "outputs": [],
   "source": [
    "var1 = int(input(\"숫자를 입력하세요 -->\"))"
   ]
  },
  {
   "cell_type": "markdown",
   "metadata": {},
   "source": [
    "### 2 연산자\n",
    "$\\textbf{산술 연산자}$\n",
    "\n",
    "파이썬은 기본적인 더하기, 빼기, 곱하기, 나누기 등을 가장 많이 사용하지만, 다음 산술 연산자도 쓴다.\n",
    "\n",
    "=, +, -, *, /, //, %, **"
   ]
  },
  {
   "cell_type": "code",
   "execution_count": 13,
   "metadata": {},
   "outputs": [
    {
     "name": "stdout",
     "output_type": "stream",
     "text": [
      "8\n",
      "2\n",
      "15\n",
      "1.6666666666666667\n",
      "1\n",
      "2\n",
      "125\n"
     ]
    }
   ],
   "source": [
    "a, b = 5, 3\n",
    "\n",
    "print( a + b, \"\\n\",a-b, \"\\n\",a*b, \"\\n\", a/b, \"\\n\", a//b, \"\\n\", a%b, \"\\n\", a**b, sep=\"\")"
   ]
  },
  {
   "cell_type": "markdown",
   "metadata": {},
   "source": [
    "$\\textbf{대입 연산자}$\n",
    "\n",
    "파이썬에서는 대입 연산자 = 외에도 +=, -=, *=, /=, %=, //=, **= 을 사용할 수 있다."
   ]
  },
  {
   "cell_type": "markdown",
   "metadata": {},
   "source": [
    "$\\textbf{관계 연산자}$\n",
    "\n",
    "관계 연산자(또는 비교 연산자)는 어떤 것이 크거나 작거나 같은지 비교하는 것으로 그 결과는 참(True)이나 거짓(False)이 된다. 주로 조건문(if)이나 반복문(while)에서 사용하며, 단독으로는 거의 사용하지 않는다. 일반적으로 참은 True로, 거짓은 False로 표시한다.\n",
    "\n",
    "==, !=, <, >, >=, <="
   ]
  },
  {
   "cell_type": "code",
   "execution_count": 14,
   "metadata": {},
   "outputs": [
    {
     "name": "stdout",
     "output_type": "stream",
     "text": [
      "False\n",
      "True\n",
      "False\n",
      "True\n",
      "False\n",
      "True\n"
     ]
    }
   ],
   "source": [
    "a, b = 100, 200\n",
    "print(a == b, \"\\n\", a != b, \"\\n\", a > b, \"\\n\", a < b, \"\\n\", a >= b, \"\\n\", a <= b, sep=\"\")"
   ]
  },
  {
   "cell_type": "markdown",
   "metadata": {},
   "source": [
    "$\\textbf{문자열과 숫자의 상호 변환}$\n",
    "\n",
    "숫자로 구성된 문자열은 `int()` 또는 `float()`함수를 사용해서 정수나 실수로 변환할 수 있다. 파이썬은 정수 크기에 제한이 없어 상당히 큰 숫자도 `int()`함수로 잘 변경된다."
   ]
  },
  {
   "cell_type": "code",
   "execution_count": 15,
   "metadata": {},
   "outputs": [
    {
     "name": "stdout",
     "output_type": "stream",
     "text": [
      "101\n",
      "101.123\n",
      "1000000000000000000000000\n"
     ]
    }
   ],
   "source": [
    "s1, s2, s3 = \"100\", \"100.123\", \"999999999999999999999999\"\n",
    "print(int(s1) + 1, \"\\n\", float(s2) + 1, \"\\n\", int(s3) + 1, sep=\"\")"
   ]
  },
  {
   "cell_type": "markdown",
   "metadata": {},
   "source": [
    "반대로 숫자를 문자열로 변환할 때는 `str()`함수를 사용한다. 다음 예처럼 `a`와 `b`는 문자열로 변경되어 결과도 `100+1`이 아닌 문자열 연결인 `1001`과 `100.1231`이 된다."
   ]
  },
  {
   "cell_type": "code",
   "execution_count": 18,
   "metadata": {},
   "outputs": [
    {
     "name": "stdout",
     "output_type": "stream",
     "text": [
      "1001\n",
      "100.1231\n"
     ]
    }
   ],
   "source": [
    "a, b = 100, 100.123\n",
    "print(str(a) + '1', \"\\n\", str(b) +'1', sep=\"\")"
   ]
  },
  {
   "cell_type": "markdown",
   "metadata": {},
   "source": [
    "### 3 조건문\n",
    "$\\textbf{기본 if문}$\n",
    "\n",
    "조건문은 '만약 ~라면'으로 해석할 수 있다. 즉, 'if 조건식 : '에서 조건식이 참이면 '실행할 문장'을 실행하고, 거짓이면 아무것도 실행하지 않은 채 프로그램을 종료한다."
   ]
  },
  {
   "cell_type": "code",
   "execution_count": 19,
   "metadata": {},
   "outputs": [
    {
     "name": "stdout",
     "output_type": "stream",
     "text": [
      "100보다 작군요\n"
     ]
    }
   ],
   "source": [
    "a = 99\n",
    "if a < 100:\n",
    "    print(\"100보다 작군요\")"
   ]
  },
  {
   "cell_type": "markdown",
   "metadata": {},
   "source": [
    "$\\textbf{if ~else 문}$\n",
    "참일 때 실행할 문장과 거짓일 때 실행할 문장을 다르게 하려면 if~else 문을 사용한다. 조건식이 참이라면 '실행할 문장 1'을 실행하고, 거짓이면 '실행할 문장 2'를 실행한다."
   ]
  },
  {
   "cell_type": "code",
   "execution_count": 20,
   "metadata": {},
   "outputs": [
    {
     "name": "stdout",
     "output_type": "stream",
     "text": [
      "100보다 크군요\n"
     ]
    }
   ],
   "source": [
    "a = 200\n",
    "\n",
    "if a < 100:\n",
    "    print(\"100보다 작군요\")\n",
    "else:\n",
    "    print(\"100보다 크군요\")\n"
   ]
  },
  {
   "cell_type": "markdown",
   "metadata": {},
   "source": [
    "### 4 반복문\n",
    "\n",
    "동일하게 반볷하는 문장은 반복문을 사용하여 간략하게 표현할 수 있다. 주로 사용하는 for 문의 형식은 다음과 같다.\n",
    "\n",
    "```python\n",
    "for 변수 in range(시작값, 끝값 + 1, 증가값):\n",
    "    이 부분을 반복\n",
    "```"
   ]
  },
  {
   "cell_type": "markdown",
   "metadata": {},
   "source": [
    "`range()`함수는 지정된 범위 값을 반환한다. `range(0, 3, 1)`은 0, 1, 2를 반환하며, 변수에 값을 하나씩 대입하면서 반복문을 수행한다. 증가 값은 생략하면 1로 인식하므로 `range(0, 3, 1)`은 `range(0, 3)`과도 같다. 시작 값도 생략이 가능한데, 생략하면 0으로 인식하므로 `range(3)`은 `range(0, 3, 1)`과 같다."
   ]
  },
  {
   "cell_type": "code",
   "execution_count": 21,
   "metadata": {},
   "outputs": [
    {
     "name": "stdout",
     "output_type": "stream",
     "text": [
      "안녕하세요? for문을 공부중입니다. ^^\n",
      "안녕하세요? for문을 공부중입니다. ^^\n",
      "안녕하세요? for문을 공부중입니다. ^^\n"
     ]
    }
   ],
   "source": [
    "for i in range(0, 3, 1):\n",
    "    print(\"안녕하세요? for문을 공부중입니다. ^^\")"
   ]
  },
  {
   "cell_type": "code",
   "execution_count": 22,
   "metadata": {},
   "outputs": [
    {
     "name": "stdout",
     "output_type": "stream",
     "text": [
      "안녕하세요? for문을 공부중입니다. ^^\n",
      "안녕하세요? for문을 공부중입니다. ^^\n",
      "안녕하세요? for문을 공부중입니다. ^^\n"
     ]
    }
   ],
   "source": [
    "for i in [0, 1, 2]:\n",
    "    print(\"안녕하세요? for문을 공부중입니다. ^^\")"
   ]
  },
  {
   "cell_type": "markdown",
   "metadata": {},
   "source": [
    "$\\textbf{while 문}$\n",
    "\n",
    "while 문은 반복 횟수를 결정하기보다는 조건식이 참일 때 반복하는 방식을 사용한다. 따라서 조건식을 True로 지정하면 무한 루프(무한 반복)를 사용할 수 있다.\n",
    "\n",
    "무한 루프를 반복하는 간단한 while 문은 다음과 같다. 중지하려면 ctrl + c 를 누른다."
   ]
  },
  {
   "cell_type": "code",
   "execution_count": null,
   "metadata": {},
   "outputs": [],
   "source": [
    "while True :\n",
    "    print(\"ㅎ\", end= \"\")"
   ]
  },
  {
   "cell_type": "markdown",
   "metadata": {},
   "source": [
    "$\\textbf{break 문}$\n",
    "\n",
    "계속되는 반복을 논리적으로 빠져나가는 방법도 있는데, break 문이 그러하다.\n",
    "\n",
    "반복문 안에서 break 문을 만나면 무조건 반복문을 빠져나온다."
   ]
  },
  {
   "cell_type": "code",
   "execution_count": 25,
   "metadata": {},
   "outputs": [
    {
     "name": "stdout",
     "output_type": "stream",
     "text": [
      "for 문을 1번 실행했습니다.\n"
     ]
    }
   ],
   "source": [
    "for i in range(1, 100):\n",
    "    print(\"for 문을 %d번 실행했습니다.\" % i)\n",
    "    break"
   ]
  },
  {
   "cell_type": "markdown",
   "metadata": {},
   "source": [
    "이 코드는 for 문이 99번 실행되도록 설계됬지만 break 문을 만나 겨우 한번만 실행하고는 종료한다. 여기서는 무조건 break 문을 만나도록 코딩했지만, 실제로는 if 문과 함께 사용하여 무한 루프를 돌다가 특정 조건이 되면 반복문을 빠져나가게 한다."
   ]
  },
  {
   "cell_type": "markdown",
   "metadata": {},
   "source": [
    "$\\textbf{continue 문}$\n",
    "\n",
    "continue 문을 만나면 블록의 남은 부분을 무조건 건너뛰고 다음 순회의 반복문을 수행한다. 즉, continue 문을 만나면 다음 순회의 반복문이 실행된다."
   ]
  },
  {
   "cell_type": "markdown",
   "metadata": {},
   "source": [
    "### 5 함수\n",
    "$\\textbf{함수의 개념}$\n",
    "\n",
    "함수(Function)는 파이썬 자체에서도 제공하지만, 사용자가 직접 만들어서 사용할 수도 있다. 파이썬에서 제공하는 함수는 다음 형식으로 사용한다.\n",
    "\n",
    "```python\n",
    "함수이름()\n",
    "```"
   ]
  },
  {
   "cell_type": "markdown",
   "metadata": {},
   "source": [
    "$\\textbf{함수 형식과 활용}$\n",
    "\n",
    "반복적으로 코딩해야 할 내용을 함수로 만들어 두면 필요할 때 바로 가져다 사용할 수 있다. 또 함수로 만들어 두면 동일한 동작을 계속 사용하므로 내부 내용이 바뀔 일이 없다.\n",
    "\n",
    "함수는 매개변수(Parameter)를 입력받은 후 그 매개변수를 가공 및 처리해서 반환 값을 돌려준다.\n",
    "\n",
    "두 정수를 입력받아 두 정수의 합계를 반환하는 `plus()`함수"
   ]
  },
  {
   "cell_type": "code",
   "execution_count": 26,
   "metadata": {},
   "outputs": [
    {
     "name": "stdout",
     "output_type": "stream",
     "text": [
      "100과 200의 plus() 함수 결과는 300\n"
     ]
    }
   ],
   "source": [
    "## 함수 선언 부분 ##\n",
    "def plus(v1, v2):\n",
    "    result = 0\n",
    "    result = v1 + v2\n",
    "    return result\n",
    "\n",
    "## 전역 변수 선언 부분 ##   \n",
    "hap = 0\n",
    "\n",
    "## 메인 코드 부분 ##\n",
    "hap = plus(100, 200)\n",
    "print(\"100과 200의 plus() 함수 결과는 %d\" % hap)"
   ]
  },
  {
   "cell_type": "markdown",
   "metadata": {},
   "source": [
    "$\\textbf{지역 변수와 전역 변수}$\n",
    "\n",
    "지역 변수는 말 그대로 한정된 지역(local)에서만 사용하는 변수고, 전역 변수는 프로그램 전체(global)에서 사용하는 변수이다.\n",
    "\n",
    "지역 변수는 현재 함수 안에 선언된 경우, 그 함수에서만 사용가능하다. 전역 변수는 함수 안이 아니라 바깥에서 선언되므로 모든 함수에서 그 존재를 알고 있다. 이때 전역 변수가 선언되는 위치는 맨 아래쪽이든 맨 위쪽이든 관계없으며, 함수 밖에서만 선언되어 있으면 된다.\n",
    "\n",
    "간혹 지역 변수와 전역 변수의 이름이 같을 수 있는데, 이때는 함수 안에 변수가 정의되어 있는지 확인하면 간단히 구분할 수 있다. 결론적으로 변수 이름이 같다면 지역 변수가 우선된다.\n",
    "\n",
    "$\\textbf{파이썬에서 `main()` 함수}$\n",
    "\n",
    "C, 자바, C# 등은 `main()`함수가 필수로 있어서 프로그램 시작 위치가 명확하지만, 파이썬은 필수가 아니다. 하지만 필요하다면 비슷한 효과를 다음과 같이 표현할 수 있다.\n",
    "```python\n",
    "if __name__ == \"__main__\":\n",
    "    hap = plus(100, 200)\n",
    "    print(\"100과 200의 plus() 함수 결과는 %d\" % hap)\n",
    "```"
   ]
  },
  {
   "cell_type": "code",
   "execution_count": 27,
   "metadata": {},
   "outputs": [
    {
     "name": "stdout",
     "output_type": "stream",
     "text": [
      "func1()에서 a값 10\n",
      "func2()에서 a값 20\n"
     ]
    }
   ],
   "source": [
    "## 함수 선언 부분 ##\n",
    "def func1():\n",
    "    a = 10\n",
    "    print(\"func1()에서 a값 %d\" % a)\n",
    "\n",
    "def func2():\n",
    "    print(\"func2()에서 a값 %d\" % a)\n",
    "\n",
    "## 전역 변수 선언 부분 ##\n",
    "a = 20      # 전역 변수\n",
    "\n",
    "## 메인 코드 부분 ##\n",
    "func1()\n",
    "func2()"
   ]
  },
  {
   "cell_type": "markdown",
   "metadata": {},
   "source": [
    "$\\textbf{global 예약어}$\n",
    "\n",
    "함수 안에서 지역 변수 대신 전역 변수로 변수를 사용하고 싶을 경우, `global`이라는 예약어로 해당 변수가 전역 변수라는 것을 명시해 줄 수 있다."
   ]
  },
  {
   "cell_type": "code",
   "execution_count": 28,
   "metadata": {},
   "outputs": [
    {
     "name": "stdout",
     "output_type": "stream",
     "text": [
      "func1()에서 a값 10\n",
      "func2()에서 a값 10\n"
     ]
    }
   ],
   "source": [
    "## 함수 선언 부분 ##\n",
    "def func1():\n",
    "    global a\n",
    "    a = 10\n",
    "    print(\"func1()에서 a값 %d\" % a)\n",
    "\n",
    "def func2():\n",
    "    print(\"func2()에서 a값 %d\" % a)\n",
    "\n",
    "## 함수 변수 선언 부분 ##\n",
    "a = 20      # 전역 변수\n",
    "\n",
    "## 메인 코드 부분 ##\n",
    "func1()\n",
    "func2()"
   ]
  },
  {
   "cell_type": "markdown",
   "metadata": {},
   "source": [
    "$\\textbf{반환 값이 여러 개인 함수}$\n",
    "\n",
    "함수는 문법상 반환 값이 2개 이상일 수 없음에도 코드를 작성하다 보면 종종 값을 2개 이상 반환해야 할 때가 있다. 이때는 리스트에 반환할 값을 넣은 후 리스트를 반환하면 된다. 리스트에 아무리 많은 데이터를 넣어도 결국 리스트 1개를 반환하는 것이므로 문법상 문제가 없기 때문이다."
   ]
  },
  {
   "cell_type": "code",
   "execution_count": 30,
   "metadata": {},
   "outputs": [
    {
     "name": "stdout",
     "output_type": "stream",
     "text": [
      "multi()에서 돌려준 값 ==> 300, -100\n"
     ]
    }
   ],
   "source": [
    "## 함수 선언 부분 ##\n",
    "def multi(v1, v2):\n",
    "    retList = []\n",
    "    res1 = v1 + v2\n",
    "    res2 = v1 - v2\n",
    "    retList.append(res1)\n",
    "    retList.append(res2)\n",
    "    return retList\n",
    "\n",
    "## 전역 변수 선언 부분 ##\n",
    "myList = []\n",
    "hap, sub = 0, 0\n",
    "\n",
    "## 메인 코드 부분 ##\n",
    "myList = multi(100, 200)\n",
    "hap = myList[0]\n",
    "sub = myList[1]\n",
    "print(\"multi()에서 돌려준 값 ==> %d, %d\" % (hap, sub))"
   ]
  },
  {
   "cell_type": "markdown",
   "metadata": {},
   "source": [
    "$\\textbf{SELF STUDY 2-1}$\n",
    "\n",
    "100과 20의 더하기, 빼기, 곱하기, 몫, 나머지, 제곱이 출력되도록 프로그램을 구현하자."
   ]
  },
  {
   "cell_type": "code",
   "execution_count": 32,
   "metadata": {},
   "outputs": [
    {
     "name": "stdout",
     "output_type": "stream",
     "text": [
      "mult()에서 반환한 값 ==>  [120, 80, 2000, 5, 0, 10000000000000000000000000000000000000000]\n"
     ]
    }
   ],
   "source": [
    "def calc(a, b):\n",
    "    sum_ = a + b\n",
    "    minus_ = a - b\n",
    "    mult = a * b\n",
    "    div_quotient = a // b\n",
    "    remainder_quotient = a % b\n",
    "    square = a ** b\n",
    "    return [sum_, minus_, mult, div_quotient, remainder_quotient, square]\n",
    "\n",
    "if __name__ == \"__main__\":\n",
    "    print(\"mult()에서 반환한 값 ==> \", calc(100, 20))"
   ]
  },
  {
   "cell_type": "markdown",
   "metadata": {},
   "source": [
    "## Section 01 파이썬의 기초 문법\n",
    "\n",
    "자료구조를 학습할 수 있는 파이썬의 데이터형은 다음과 같이 분류할 수 있다.\n",
    "\n",
    "$\\textbf{파이썬 데이터 형식}$\n",
    "- 기본 데이터 형식\n",
    "    - 리터럴\n",
    "    - 불\n",
    "    - 숫자형\n",
    "        - 정수\n",
    "        - 실수\n",
    "- 연속형 데이터 형식\n",
    "    - 가변형\n",
    "        - 배열(리스트)\n",
    "        - 딕셔너리\n",
    "        - 세트\n",
    "    - 불변형\n",
    "        - 문자형\n",
    "        - 튜플"
   ]
  },
  {
   "cell_type": "markdown",
   "metadata": {},
   "source": [
    "### 1 기본 데이터형\n",
    "\n",
    "파이썬에서 지원하는 데이터형은 기본형과 연속형으로 나눌 수 있다. 그리고 기본 데이터형에는 리터럴, 불, 숫자형 중 정수와 실수가 있다.\n",
    "\n",
    "연속형은 데이터 모음으로, 변경이 가능한 가변형(mutable)과 변경이 불가능한 불변형(immutable)이 있다. 가변형에는 리스트(list), 딕셔너리(dict), 세트(set) 등이 있고, 불변형에는 문자열(str)과 튜플(tuple)이 있다."
   ]
  },
  {
   "cell_type": "markdown",
   "metadata": {},
   "source": [
    "$\\textbf{리터럴}$\n",
    "\n",
    "리터럴(Literal)은 숫자, 문자열 등 상수 값을 직접 표기한 데이터를 의미한다. 예를 들어 100, 1.23, \"Python\"등의 값을 리터럴이라고 할 수 있다."
   ]
  },
  {
   "cell_type": "markdown",
   "metadata": {},
   "source": [
    "$\\textbf{불}$\n",
    "\n",
    "불(bool)은 참이나 거짓을 저장할 수 있고, if 문이나 while 문의 조건식 결과로 주로 사용한다."
   ]
  },
  {
   "cell_type": "code",
   "execution_count": 45,
   "metadata": {},
   "outputs": [
    {
     "name": "stdout",
     "output_type": "stream",
     "text": [
      "False\n",
      "<class 'bool'>\n"
     ]
    }
   ],
   "source": [
    "boolVar = 100 > 200\n",
    "print(boolVar)\n",
    "print(type(boolVar))"
   ]
  },
  {
   "cell_type": "markdown",
   "metadata": {},
   "source": [
    "$\\textbf{숫자형}$\n",
    "\n",
    "숫자형에는 정수(int)와 실수(float) 두 가지가 있다. 다른 프로그래밍 언어는 정수를 short, int, long 등으로 구분하고 최대 크기도 각각 다르지만, 파이썬에서는 정수는 int 하나뿐이고 크기에도 제한이 없다."
   ]
  },
  {
   "cell_type": "code",
   "execution_count": 46,
   "metadata": {},
   "outputs": [
    {
     "name": "stdout",
     "output_type": "stream",
     "text": [
      "100000000000000000000000000000000000000000000000000000000000000000000000000000000000000000000000000000000000000000000000000000000000000000000000000000000000000000000000000000000000000000000000000000000\n",
      "<class 'int'>\n"
     ]
    }
   ],
   "source": [
    "intVar = 100 ** 100\n",
    "print(intVar)\n",
    "print(type(intVar))"
   ]
  },
  {
   "cell_type": "markdown",
   "metadata": {},
   "source": [
    "실수는 소수점이 있는 숫자로, 파이썬은 소수점 아래 16자리까지 정밀도를 보장한다. 다른 프로그래밍 언어는 실수를 float, double 등으로 구분하지만, 파이썬에서 실수는 float 하나뿐이다."
   ]
  },
  {
   "cell_type": "code",
   "execution_count": 47,
   "metadata": {},
   "outputs": [
    {
     "name": "stdout",
     "output_type": "stream",
     "text": [
      "0.12345678901234568\n",
      "<class 'float'>\n"
     ]
    }
   ],
   "source": [
    "floatVar = 0.123456789012345678901234567890\n",
    "print(floatVar)\n",
    "print(type(floatVar))"
   ]
  },
  {
   "cell_type": "markdown",
   "metadata": {},
   "source": [
    "### 2. 리스트(가변형 데이터 형식)\n",
    "\n",
    "$\\textbf{리스트의 개념}$\n",
    "\n",
    "리스트는 하나씩 사용하던 변수를 한 줄로 붙여 놓은 것이다. 다른 프로그래밍 언어의 배열(Array)과 비슷한 개념이다. 3장부터 다룰 선형 리스트, 연결 리스트 등 자료구조와 파이썬의 데이터형 이름이 비슷해서 혼란스러울 수 있다. 그래서 이 책은 3장부터는 파이썬의 데이터형인 리스트를 배열이라고 부른다.\n",
    "\n",
    "지금까지는 변수 이름을 각각 a, b, c, d 식으로 지정해서 사용해 왔지만, 리스트는 변수를 한 줄로 붙인 후 전체에 이름(aa)을 지정한다. 그리고 각각은 `aa[0], aa[1], aa[2], aa[3]` 처럼 번호를 붙여 사용한다.\n",
    "\n",
    "$\\textbf{리스트 생성과 사용법}$\n",
    "\n",
    "리스트를 생성하는 방법은 다음과 같다. 리스트는 대괄호 []안에 값을 선언한다.\n",
    "\n",
    "```python\n",
    "리스트 이름 = [값1, 값2, 값3, ...]\n",
    "```"
   ]
  },
  {
   "cell_type": "code",
   "execution_count": 48,
   "metadata": {},
   "outputs": [
    {
     "name": "stdout",
     "output_type": "stream",
     "text": [
      "10\n",
      "[10, 200, 30, 40]\n"
     ]
    }
   ],
   "source": [
    "aa = [10, 20, 30, 40]\n",
    "print(aa[0])\n",
    "aa[1] = 200\n",
    "print(aa)"
   ]
  },
  {
   "cell_type": "markdown",
   "metadata": {},
   "source": [
    "$\\textbf{빈 리스트 생성과 항목 추가}$\n",
    "\n",
    "앞서 항목 4개를 `aa = [10, 20, 30, 40]` 으로 만들었다. 같은 방법으로 먼저 빈 리스트를 만들고, 리스트 이름.append(값) 함수로 항목을 하나씩 추가할 수 있다."
   ]
  },
  {
   "cell_type": "code",
   "execution_count": 49,
   "metadata": {},
   "outputs": [
    {
     "name": "stdout",
     "output_type": "stream",
     "text": [
      "[]\n",
      "[10, 20, 30, 40]\n"
     ]
    }
   ],
   "source": [
    "aa = []\n",
    "print(aa)\n",
    "aa.append(10)\n",
    "aa.append(20)\n",
    "aa.append(30)\n",
    "aa.append(40)\n",
    "print(aa)"
   ]
  },
  {
   "cell_type": "code",
   "execution_count": 51,
   "metadata": {},
   "outputs": [
    {
     "name": "stdout",
     "output_type": "stream",
     "text": [
      "100\n"
     ]
    }
   ],
   "source": [
    "## for 문으로 리스트 만들기\n",
    "aa = []\n",
    "for i in range(1, 101):\n",
    "    aa.append(i * 10)\n",
    "print(len(aa))\n",
    "# print(aa)"
   ]
  },
  {
   "cell_type": "markdown",
   "metadata": {},
   "source": [
    "for 문으로 100번을 반복하여 리스트이름.append(i * 10)으로 항목이 100개인 리스트를 만들었다. 그리고 리스트 항목을 전부 출력하면 너무 많으므로 len(리스트) 함수로 리스트 개수만 확인했다. len(리스트)도 자주 사용하는 함수이므로 잘 기억해둔다."
   ]
  },
  {
   "cell_type": "markdown",
   "metadata": {},
   "source": [
    "#### 사용자에게 숫자를 4개 입력받아 그 합계를 출력하는 프로그램"
   ]
  },
  {
   "cell_type": "code",
   "execution_count": 52,
   "metadata": {},
   "outputs": [
    {
     "name": "stdout",
     "output_type": "stream",
     "text": [
      "4개의 입력숫자 합 :  10\n"
     ]
    }
   ],
   "source": [
    "def four_sum():\n",
    "    X = []\n",
    "    for i in range(4):\n",
    "        x = int(input())\n",
    "        X.append(x)\n",
    "    \n",
    "    return sum(X)\n",
    "\n",
    "if __name__ == \"__main__\":\n",
    "    print(\"4개의 입력숫자 합 : \", four_sum())\n"
   ]
  },
  {
   "cell_type": "code",
   "execution_count": 53,
   "metadata": {},
   "outputs": [
    {
     "name": "stdout",
     "output_type": "stream",
     "text": [
      "합계 ==> 100\n"
     ]
    }
   ],
   "source": [
    "aa = []\n",
    "for i in range(0,4):\n",
    "    aa.append(0)\n",
    "hap = 0\n",
    "\n",
    "for i in range(0,4):\n",
    "    aa[i] = int(input(str(i + 1) + \"번째 숫자 : \"))\n",
    "hap = 0\n",
    "for i in range(0,4):\n",
    "    hap += aa[i]\n",
    "\n",
    "print(\"합계 ==> %d\" % hap)"
   ]
  },
  {
   "cell_type": "markdown",
   "metadata": {},
   "source": [
    "$\\textbf{리스트 값에 접근하는 방법}$\n",
    "\n",
    "생성된 리스트는 첨자로 접근할 수 있다. 앞서 이미 여러 번 첨자로 접근했는데, 이번에는 음수 값으로 접근해본다."
   ]
  },
  {
   "cell_type": "code",
   "execution_count": 54,
   "metadata": {},
   "outputs": [
    {
     "name": "stdout",
     "output_type": "stream",
     "text": [
      "aa[-1] 은 40, aa[-2]는 30\n"
     ]
    }
   ],
   "source": [
    "aa = [10, 20, 30, 40]\n",
    "print(\"aa[-1] 은 %d, aa[-2]는 %d\" % (aa[-1], aa[-2]))"
   ]
  },
  {
   "cell_type": "markdown",
   "metadata": {},
   "source": [
    "첨자는 맨 뒤부터 -1 값으로 사용하는 것을 확인할 수 있다. 앞의 예는 `aa[-4]`까지 접근되므로 `aa[-5]`는 오류가 발생할 것이다."
   ]
  },
  {
   "cell_type": "markdown",
   "metadata": {},
   "source": [
    "리스트에 접근할 때 콜론(:)을 사용하여 범위를 지정할 수도 있다. '리스트이름[시작값 : 끝값 + 1]'은 리스트 시작 위치부터 끝 위치까지 모든 값을 의미한다. `aa[0:3]`은 0부터 2까지, 즉 `aa[0], aa[1], aa[2]`가 된다. `aa[3]` 은 포함되지 않는 점에 주의한다."
   ]
  },
  {
   "cell_type": "code",
   "execution_count": 55,
   "metadata": {},
   "outputs": [
    {
     "name": "stdout",
     "output_type": "stream",
     "text": [
      "[10, 20, 30]\n",
      "[30, 40]\n"
     ]
    }
   ],
   "source": [
    "aa = [10, 20, 30, 40]\n",
    "print(aa[0:3])\n",
    "print(aa[2:4])"
   ]
  },
  {
   "cell_type": "markdown",
   "metadata": {},
   "source": [
    "또는 콜론의 앞이나 뒤 숫자를 생략할 수도 있다. `aa[2:]`는 `aa[2]` 부터 끝까지를 의미하며, `aa[:2]`는 처음부터 `aa[1]`까지를 의미한다."
   ]
  },
  {
   "cell_type": "code",
   "execution_count": 56,
   "metadata": {},
   "outputs": [
    {
     "name": "stdout",
     "output_type": "stream",
     "text": [
      "[30, 40]\n",
      "[10, 20]\n"
     ]
    }
   ],
   "source": [
    "print(aa[2:])\n",
    "print(aa[:2])"
   ]
  },
  {
   "cell_type": "markdown",
   "metadata": {},
   "source": [
    "$\\textbf{리스트 조작 함수}$\n",
    "\n",
    "앞서 몇개 살펴보았지만, 다양한 함수로 리스트를 조작할 수 있다. 함수는 외우기보다 자연스럽게 사용 방법을 익히는 것이 좋다."
   ]
  },
  {
   "cell_type": "code",
   "execution_count": 57,
   "metadata": {},
   "outputs": [
    {
     "name": "stdout",
     "output_type": "stream",
     "text": [
      "현재 리스트 : [30, 10, 20]\n",
      "append(40) 후의 리스트 : [30, 10, 20, 40]\n",
      "pop()으로 추출한 값 : 40\n",
      "pop() 후의 리스트 : [30, 10, 20]\n",
      "sort() 후의 리스트 : [10, 20, 30]\n",
      "reverse() 후의 리스트 : [30, 20, 10]\n",
      "20값의 위치 : 1\n",
      "insert(2, 222) 후의 리스트 : [30, 20, 222, 10]\n",
      "remove(222) 후의 리스트 : [30, 20, 10]\n",
      "extend([77, 88, 77]) 후의 리스트 : [30, 20, 10, 77, 88, 77]\n",
      "77값의 개수 : 2\n"
     ]
    }
   ],
   "source": [
    "myList = [30, 10, 20]\n",
    "print(\"현재 리스트 : %s\" % myList)\n",
    "\n",
    "myList.append(40)\n",
    "print(\"append(40) 후의 리스트 : %s\" % myList)\n",
    "\n",
    "print(\"pop()으로 추출한 값 : %s\" % myList.pop())\n",
    "print(\"pop() 후의 리스트 : %s\" % myList)\n",
    "\n",
    "myList.sort()\n",
    "print(\"sort() 후의 리스트 : %s\" % myList)\n",
    "\n",
    "myList.reverse()\n",
    "print(\"reverse() 후의 리스트 : %s\" % myList)\n",
    "\n",
    "print(\"20값의 위치 : %d\" % myList.index(20))\n",
    "\n",
    "myList.insert(2, 222)\n",
    "print(\"insert(2, 222) 후의 리스트 : %s\" % myList)\n",
    "\n",
    "myList.remove(222)\n",
    "print(\"remove(222) 후의 리스트 : %s\" % myList)\n",
    "\n",
    "myList.extend([77, 88, 77])\n",
    "print(\"extend([77, 88, 77]) 후의 리스트 : %s\" % myList)\n",
    "\n",
    "print(\"77값의 개수 : %d\" % myList.count(77))"
   ]
  },
  {
   "cell_type": "markdown",
   "metadata": {},
   "source": [
    "$\\textbf{2차원 리스트}$\n",
    "\n",
    "2차원 리스트는 1차원 리스트를 여러 개 연결한 것으로 첨자를 2개 사용한다. 앞서 1차원 리스트는 변수를 나란히 세워 놓은 것이라고 했다.\n",
    "\n",
    "```python\n",
    "aa = [10, 20, 30]\n",
    "```\n",
    "\n",
    "1차원 리스트를 확장하여 다음과 같이 2차원 리스트를 정의할 수 있다. 3행 4열짜리 리스트가 생성되어 총 요소의 개수는 $3 \\times 4 = 12$ 가 된다.\n",
    "\n",
    "```python\n",
    "aa = [[1, 2, 3, 4],\n",
    "      [5, 6, 7, 8],\n",
    "      [9, 10, 11, 12]]\n",
    "```"
   ]
  },
  {
   "cell_type": "markdown",
   "metadata": {},
   "source": [
    "2차원 리스트에서 각 항목에 접근하려면 `aa[0][0]` 처럼 첨자를 2개 사용해야 한다. 1차원 리스트처럼 첨자가 가로는 0~2, 세로는 0~3으로 변한다는 점에 주의한다. 즉, `aa[3][4]` 같은 항목은 존재하지 않는다.\n",
    "\n",
    "2차원 리스트 생성도 1차원 리스트와 마찬가지로 for 문을 활용할 수 있다. 첨자가 2개이므로 이중 for 문을 사용해서 3행 4열짜리 리스트를 생성한 후 항목 1 ~ 12를 입력하고 출력해본다."
   ]
  },
  {
   "cell_type": "code",
   "execution_count": 63,
   "metadata": {},
   "outputs": [
    {
     "name": "stdout",
     "output_type": "stream",
     "text": [
      "1 2 3 4 \n",
      "\n",
      "5 6 7 8 \n",
      "\n",
      "9 10 11 12 \n",
      "\n"
     ]
    }
   ],
   "source": [
    "X = []\n",
    "\n",
    "for i in range(3):\n",
    "    x = []\n",
    "    for j in range(4):\n",
    "        x.append((4*i) + (j+1))\n",
    "    X.append(x)\n",
    "\n",
    "for i in range(3):\n",
    "    for j in range(4):\n",
    "        print(f\"{X[i][j]}\", end = \" \")\n",
    "    print(\"\\n\")\n"
   ]
  },
  {
   "cell_type": "code",
   "execution_count": 64,
   "metadata": {},
   "outputs": [
    {
     "name": "stdout",
     "output_type": "stream",
     "text": [
      "  1  2  3  4\n",
      "  5  6  7  8\n",
      "  9 10 11 12\n"
     ]
    }
   ],
   "source": [
    "list1 = []\n",
    "list2 = []\n",
    "value = 1\n",
    "for i in range(0, 3):\n",
    "    for k in range(0, 4):\n",
    "        list1.append(value)\n",
    "        value += 1\n",
    "    list2.append(list1)\n",
    "    list1 = []\n",
    "\n",
    "for i in range(0, 3) :\n",
    "    for k in range(0, 4):\n",
    "        print(\"%3d\" % list2[i][k], end = \"\")\n",
    "    print(\"\")"
   ]
  },
  {
   "cell_type": "markdown",
   "metadata": {},
   "source": [
    "$\\textbf{SELF STUDY 2-2}$\n",
    "\n",
    "4행 3열짜리 리스트를 생성한 후 12 ~ 1을 입력하고 출력해 본다. 추가로 배열의 모든 숫자 합계도 계산해 본다."
   ]
  },
  {
   "cell_type": "code",
   "execution_count": 69,
   "metadata": {},
   "outputs": [
    {
     "name": "stdout",
     "output_type": "stream",
     "text": [
      "12 11 10 \n",
      "\n",
      "9 8 7 \n",
      "\n",
      "6 5 4 \n",
      "\n",
      "3 2 1 \n",
      "\n",
      "배열의 합계 ==> 78\n"
     ]
    }
   ],
   "source": [
    "def self_study_2(num):\n",
    "    X = []\n",
    "    X_sum = 0\n",
    "    num = 12\n",
    "\n",
    "    for i in range(4):\n",
    "        x = []\n",
    "        for j in range(3):\n",
    "            x.append(num)\n",
    "            num -= 1\n",
    "        sub_sum = sum(x)\n",
    "        X_sum += sub_sum\n",
    "        X.append(x)\n",
    "\n",
    "    return X, X_sum\n",
    "\n",
    "\n",
    "X, total = self_study_2(12)\n",
    "\n",
    "for i in range(4):\n",
    "    for j in range(3):\n",
    "        print(f\"{X[i][j]}\", end = \" \")\n",
    "    print(\"\\n\")\n",
    "print(f\"배열의 합계 ==> {total}\")\n"
   ]
  },
  {
   "cell_type": "markdown",
   "metadata": {},
   "source": [
    "$\\textbf{컴프리헨션}$\n",
    "\n",
    "컴프리헨션(Comprehension, 함축)은 값이 순차적인 리스트를 한 줄로 만드는 간단한 방법이다. 우선 지금까지 배운 방법으로 1부터 5까지 저장된 리스트를 다음과 같이 만들 수 있다."
   ]
  },
  {
   "cell_type": "code",
   "execution_count": 70,
   "metadata": {},
   "outputs": [
    {
     "name": "stdout",
     "output_type": "stream",
     "text": [
      "[1, 2, 3, 4, 5]\n"
     ]
    }
   ],
   "source": [
    "numList = []\n",
    "for num in range(1, 6):\n",
    "    numList.append(num)\n",
    "\n",
    "print(numList)"
   ]
  },
  {
   "cell_type": "markdown",
   "metadata": {},
   "source": [
    "위 코드를 리스트 컴프리헨션으로 다음과 같이 한 행으로 작성할 수 있다."
   ]
  },
  {
   "cell_type": "code",
   "execution_count": 71,
   "metadata": {},
   "outputs": [
    {
     "name": "stdout",
     "output_type": "stream",
     "text": [
      "[1, 2, 3, 4, 5]\n"
     ]
    }
   ],
   "source": [
    "numList = [num for num in range(1,6)]\n",
    "print(numList)"
   ]
  },
  {
   "cell_type": "markdown",
   "metadata": {},
   "source": [
    "컴프리헨션은 다음 형식으로 구성하면 된다.\n",
    "\n",
    "```python\n",
    "리스트 = [수식 for 항목 in range() if 조건식]\n",
    "```"
   ]
  },
  {
   "cell_type": "code",
   "execution_count": 72,
   "metadata": {},
   "outputs": [
    {
     "name": "stdout",
     "output_type": "stream",
     "text": [
      "[1, 4, 9, 16, 25]\n"
     ]
    }
   ],
   "source": [
    "numList = [num ** 2 for num in range(1, 6)]\n",
    "print(numList)"
   ]
  },
  {
   "cell_type": "code",
   "execution_count": 73,
   "metadata": {},
   "outputs": [
    {
     "name": "stdout",
     "output_type": "stream",
     "text": [
      "[3, 6, 9, 12, 15, 18]\n"
     ]
    }
   ],
   "source": [
    "numList = [num for num in range(1, 21) if num % 3 == 0]\n",
    "print(numList)"
   ]
  },
  {
   "cell_type": "markdown",
   "metadata": {},
   "source": [
    "2차원 리스트 컴프리헨션은 다음 형식으로 구성하면 된다.\n",
    "\n",
    "```python\n",
    "리스트 = [[수식 for 항목 in range()] for 항목 in range()]\n",
    "```"
   ]
  },
  {
   "cell_type": "code",
   "execution_count": 76,
   "metadata": {},
   "outputs": [
    {
     "name": "stdout",
     "output_type": "stream",
     "text": [
      "[[1, 2, 3, 4], [5, 6, 7, 8], [9, 10, 11, 12]]\n"
     ]
    }
   ],
   "source": [
    "list2 = [[num + (num_2 * 4) for num in range(1, 5)] for num_2 in range(3)]\n",
    "print(list2)"
   ]
  },
  {
   "cell_type": "markdown",
   "metadata": {},
   "source": [
    "### 3. 딕셔너리(가변형 데이터 형식)\n",
    "\n",
    "$\\textbf{딕셔너리의 개념}$\n",
    "\n",
    "딕셔너리(Dictionary)는 영어 사전이나 국어 사전을 생각하면 된다. 딕셔너리는 쌍 2개가 하나로 묶인 자료구조이다. 예를 들어 'apple : 사과'처럼 의미 있는 두 값을 연결하여 구성한다.\n",
    "\n",
    "딕셔너리는 다음과 같이 중괄호 {}로 묶어 구성하며, 키(Key)와 값(Value)쌍으로 구성되어 있다.\n",
    "\n",
    "```python\n",
    "딕셔너리변수 = {키1 : 값1, 키2 : 값2, 키3 : 값3, ...}\n",
    "```"
   ]
  },
  {
   "cell_type": "markdown",
   "metadata": {},
   "source": [
    "$\\textbf{딕셔너리 생성}$\n",
    "\n",
    "간단한 딕셔너리를 만드는 방법은 다음과 같다. 키를 1, 2, 3 으로 하고 값을 'a', 'b', 'c'로 만든다."
   ]
  },
  {
   "cell_type": "code",
   "execution_count": 77,
   "metadata": {},
   "outputs": [
    {
     "name": "stdout",
     "output_type": "stream",
     "text": [
      "{1: 'a', 2: 'b', 3: 'c'}\n"
     ]
    }
   ],
   "source": [
    "dic1 = {1 : 'a', 2 : 'b', 3 : 'c'}\n",
    "print(dic1)"
   ]
  },
  {
   "cell_type": "markdown",
   "metadata": {},
   "source": [
    "키와 값을 반대로 생성해도 된다."
   ]
  },
  {
   "cell_type": "code",
   "execution_count": 78,
   "metadata": {},
   "outputs": [
    {
     "name": "stdout",
     "output_type": "stream",
     "text": [
      "{'a': 1, 'b': 2, 'c': 3}\n"
     ]
    }
   ],
   "source": [
    "dic2 = {'a' : 1, 'b' : 2, 'c' : 3}\n",
    "print(dic2)"
   ]
  },
  {
   "cell_type": "markdown",
   "metadata": {},
   "source": [
    "키와 값은 사용자가 지정하는 것이지 어떤 값을 반드시 사용해야 한다는 규정은 없다. 주의 할 점은 딕셔너리에는 순서가 없어 생성한 순서대로 딕셔너리가 구성되어 있다는 보장을 할 수 없다는 것이다.\n",
    "\n",
    "딕셔너리는 여러 정보를 변수 하나로 표현할 때 유용하다."
   ]
  },
  {
   "cell_type": "code",
   "execution_count": 80,
   "metadata": {},
   "outputs": [
    {
     "name": "stdout",
     "output_type": "stream",
     "text": [
      "{'학번': 1000, '이름': '홍길동', '학과': '컴퓨터학과'}\n"
     ]
    }
   ],
   "source": [
    "student1 = {'학번' : 1000, '이름' : '홍길동', '학과' : '컴퓨터학과'}\n",
    "print(student1)"
   ]
  },
  {
   "cell_type": "markdown",
   "metadata": {},
   "source": [
    "딕셔너리에는 `딕셔너리이름[키] = 값` 형식으로 쌍을 추가할 수 있다."
   ]
  },
  {
   "cell_type": "code",
   "execution_count": 81,
   "metadata": {},
   "outputs": [
    {
     "name": "stdout",
     "output_type": "stream",
     "text": [
      "{'학번': 1000, '이름': '홍길동', '학과': '컴퓨터학과', '연락처': '010-1111-2222'}\n"
     ]
    }
   ],
   "source": [
    "student1['연락처'] = '010-1111-2222'\n",
    "print(student1)"
   ]
  },
  {
   "cell_type": "markdown",
   "metadata": {},
   "source": [
    "이미 존재하는 키를 사용하면 새로운 쌍이 추가되는 것이 아니라 기존 값이 변경된다. 딕셔너리 특성상 키는 유일해야 하기 때문이다."
   ]
  },
  {
   "cell_type": "code",
   "execution_count": 82,
   "metadata": {},
   "outputs": [
    {
     "name": "stdout",
     "output_type": "stream",
     "text": [
      "{'학번': 1000, '이름': '홍길동', '학과': '파이썬학과', '연락처': '010-1111-2222'}\n"
     ]
    }
   ],
   "source": [
    "student1['학과'] = '파이썬학과'\n",
    "print(student1)"
   ]
  },
  {
   "cell_type": "markdown",
   "metadata": {},
   "source": [
    "딕셔너리 쌍은 `del(딕셔너리이름[키])` 형식으로 삭제할 수 있다."
   ]
  },
  {
   "cell_type": "code",
   "execution_count": 84,
   "metadata": {},
   "outputs": [
    {
     "name": "stdout",
     "output_type": "stream",
     "text": [
      "{'학번': 1000, '이름': '홍길동', '연락처': '010-1111-2222'}\n"
     ]
    }
   ],
   "source": [
    "del(student1['학과'])\n",
    "print(student1)"
   ]
  },
  {
   "cell_type": "markdown",
   "metadata": {},
   "source": [
    "딕셔너리 키는 유일해야 하므로 다음 코드를 실행하면 동일한 키를 갖는 딕셔너리를 생성하는 것이 아니라 마지막에 있는 키가 적용된다."
   ]
  },
  {
   "cell_type": "code",
   "execution_count": 85,
   "metadata": {},
   "outputs": [
    {
     "name": "stdout",
     "output_type": "stream",
     "text": [
      "{'학번': '2000', '이름': '홍길동', '학과': '파이썬학과'}\n"
     ]
    }
   ],
   "source": [
    "student1 = {'학번': 1000, '이름': '홍길동', '학과': '파이썬학과', '학번': '2000'}\n",
    "print(student1)"
   ]
  },
  {
   "cell_type": "markdown",
   "metadata": {},
   "source": [
    "$\\textbf{딕셔너리 사용}$\n",
    "\n",
    "딕셔너리는 키를 사용하여 값을 구한다."
   ]
  },
  {
   "cell_type": "code",
   "execution_count": 86,
   "metadata": {},
   "outputs": [
    {
     "name": "stdout",
     "output_type": "stream",
     "text": [
      "2000\n",
      "홍길동\n",
      "파이썬학과\n"
     ]
    }
   ],
   "source": [
    "print(student1['학번'])\n",
    "print(student1['이름'])\n",
    "print(student1['학과'])"
   ]
  },
  {
   "cell_type": "markdown",
   "metadata": {},
   "source": [
    "`딕셔너리.get(키)` 함수를 사용해서 키로 값에 접근할 수 있다."
   ]
  },
  {
   "cell_type": "code",
   "execution_count": 87,
   "metadata": {},
   "outputs": [
    {
     "data": {
      "text/plain": [
       "'홍길동'"
      ]
     },
     "execution_count": 87,
     "metadata": {},
     "output_type": "execute_result"
    }
   ],
   "source": [
    "student1.get('이름')"
   ]
  },
  {
   "cell_type": "code",
   "execution_count": 92,
   "metadata": {},
   "outputs": [
    {
     "name": "stdout",
     "output_type": "stream",
     "text": [
      "올바른 접근이 아닙니다. get()을 쓰세요\n",
      "None\n"
     ]
    }
   ],
   "source": [
    "try:\n",
    "    print(student1['주소'])\n",
    "except KeyError:\n",
    "    print(\"올바른 접근이 아닙니다. get()을 쓰세요\")\n",
    "    print(student1.get('주소'))"
   ]
  },
  {
   "cell_type": "markdown",
   "metadata": {},
   "source": [
    "딕셔너리와 관련된 함수 중 `딕셔너리이름.keys()` 는 딕셔너리의 모든 키를 반환한다."
   ]
  },
  {
   "cell_type": "code",
   "execution_count": 93,
   "metadata": {},
   "outputs": [
    {
     "data": {
      "text/plain": [
       "dict_keys(['학번', '이름', '학과'])"
      ]
     },
     "execution_count": 93,
     "metadata": {},
     "output_type": "execute_result"
    }
   ],
   "source": [
    "student1.keys()"
   ]
  },
  {
   "cell_type": "code",
   "execution_count": 94,
   "metadata": {},
   "outputs": [
    {
     "data": {
      "text/plain": [
       "['학번', '이름', '학과']"
      ]
     },
     "execution_count": 94,
     "metadata": {},
     "output_type": "execute_result"
    }
   ],
   "source": [
    "list(student1.keys())"
   ]
  },
  {
   "cell_type": "markdown",
   "metadata": {},
   "source": [
    "`딕셔너리이름.values()` 함수는 딕셔너리의 모든 값을 리스트로 만들어 반환한다."
   ]
  },
  {
   "cell_type": "code",
   "execution_count": 95,
   "metadata": {},
   "outputs": [
    {
     "data": {
      "text/plain": [
       "dict_values(['2000', '홍길동', '파이썬학과'])"
      ]
     },
     "execution_count": 95,
     "metadata": {},
     "output_type": "execute_result"
    }
   ],
   "source": [
    "student1.values()"
   ]
  },
  {
   "cell_type": "code",
   "execution_count": 96,
   "metadata": {},
   "outputs": [
    {
     "data": {
      "text/plain": [
       "['2000', '홍길동', '파이썬학과']"
      ]
     },
     "execution_count": 96,
     "metadata": {},
     "output_type": "execute_result"
    }
   ],
   "source": [
    "list(student1.values())"
   ]
  },
  {
   "cell_type": "markdown",
   "metadata": {},
   "source": [
    "`딕셔너리이름.items()` 함수는 key와 value를 튜플 형태의 리스트로 만들어 변환한다."
   ]
  },
  {
   "cell_type": "code",
   "execution_count": 97,
   "metadata": {},
   "outputs": [
    {
     "data": {
      "text/plain": [
       "dict_items([('학번', '2000'), ('이름', '홍길동'), ('학과', '파이썬학과')])"
      ]
     },
     "execution_count": 97,
     "metadata": {},
     "output_type": "execute_result"
    }
   ],
   "source": [
    "student1.items()"
   ]
  },
  {
   "cell_type": "markdown",
   "metadata": {},
   "source": [
    "딕셔너리 안에 해당 키가 있는지 없는지는 `in` 을 사용해서 확인할 수 있다."
   ]
  },
  {
   "cell_type": "code",
   "execution_count": 98,
   "metadata": {},
   "outputs": [
    {
     "name": "stdout",
     "output_type": "stream",
     "text": [
      "True\n",
      "False\n"
     ]
    }
   ],
   "source": [
    "print('이름' in student1)\n",
    "print('주소' in student1)"
   ]
  },
  {
   "cell_type": "markdown",
   "metadata": {},
   "source": [
    "for 문을 활용하여 딕셔너리의 모든 값을 출력할 수도 있다."
   ]
  },
  {
   "cell_type": "code",
   "execution_count": 100,
   "metadata": {},
   "outputs": [
    {
     "name": "stdout",
     "output_type": "stream",
     "text": [
      "이름 --> 트와이스\n",
      "구성원 수 --> 9\n",
      "데뷔 --> 서바이벌 식스틴\n",
      "대표곡 --> SIGNAL\n"
     ]
    }
   ],
   "source": [
    "girl_group = {}\n",
    "\n",
    "girl_group['이름'] = '트와이스'\n",
    "girl_group['구성원 수'] = 9\n",
    "girl_group['데뷔'] = '서바이벌 식스틴'\n",
    "girl_group['대표곡'] = 'SIGNAL'\n",
    "\n",
    "for k in girl_group.keys():\n",
    "    print('%s --> %s' % (k, girl_group[k]))"
   ]
  },
  {
   "cell_type": "markdown",
   "metadata": {},
   "source": [
    "### 4. 세트(가변형 데이터 형식)\n",
    "\n",
    "세트는 키만 모아 놓은 딕셔너리의 특수한 형태이다. 딕셔너리의 키는 중복되면 안 되므로 세트에 들어 있는 값은 항상 유일하다. 세트를 생성하려면 딕셔너리처럼 중괄호 {} 를 사용하지만 : 없이 값만 입력한다."
   ]
  },
  {
   "cell_type": "code",
   "execution_count": 101,
   "metadata": {},
   "outputs": [
    {
     "name": "stdout",
     "output_type": "stream",
     "text": [
      "{1, 2, 3, 4}\n"
     ]
    }
   ],
   "source": [
    "mySet1 = {1, 2, 3, 3, 3, 4}\n",
    "print(mySet1)"
   ]
  },
  {
   "cell_type": "markdown",
   "metadata": {},
   "source": [
    "결과를 보면 중복된 키는 자동으로 하나만 남는다. 세트의 이런 특성을 잘 활용하면 기능을 편리하게 작성할 수 있다. 예를 들어 편의점에서 판매되는 물품 목록을 리스트에 순차적으로 저장한다고 하자. 결산할 때 판매된 물품의 전체 수량이 아닌 종류만 파악하고 싶다면 다음과 같이 리스트를 세트로 변경한다."
   ]
  },
  {
   "cell_type": "code",
   "execution_count": 102,
   "metadata": {},
   "outputs": [
    {
     "name": "stdout",
     "output_type": "stream",
     "text": [
      "{'삼각김밥', '도시락', '바나나'}\n"
     ]
    }
   ],
   "source": [
    "salesList = ['삼각김밥', '바나나', '도시락', '삼각김밥', '삼각김밥', '도시락', '삼각김밥']\n",
    "print(set(salesList))"
   ]
  },
  {
   "cell_type": "markdown",
   "metadata": {},
   "source": [
    "결과를 보면 판매된 물품이 하나씩만 남았다. `set()` 함수는 리스트, 튜플, 딕셔너리 등을 세트로 변경시켜 준다. 활용도가 높은 함수이므로 꼭 기억해두자. 참고로 세트도 딕셔너리와 마찬가지로 별도의 순서로 저장되지 않는다.\n",
    "\n",
    "두 세트 사이의 교집합, 합집합, 차집합, 대칭 차집합을 구할 수도 있다."
   ]
  },
  {
   "cell_type": "code",
   "execution_count": 103,
   "metadata": {},
   "outputs": [
    {
     "name": "stdout",
     "output_type": "stream",
     "text": [
      "{4, 5}\n",
      "{1, 2, 3, 4, 5, 6, 7}\n",
      "{1, 2, 3}\n",
      "{1, 2, 3, 6, 7}\n"
     ]
    }
   ],
   "source": [
    "mySet1 = {1, 2, 3, 4, 5}\n",
    "mySet2 = {4, 5, 6, 7}\n",
    "print(mySet1 & mySet2)  # 교집합\n",
    "print(mySet1 | mySet2)  # 합집합\n",
    "print(mySet1 - mySet2)  # 차집합\n",
    "print(mySet1 ^ mySet2)  # 대칭차집합"
   ]
  },
  {
   "cell_type": "markdown",
   "metadata": {},
   "source": [
    "각 연산자 `&, |, -, ^` 대신 함수를 사용할 수도 있다."
   ]
  },
  {
   "cell_type": "code",
   "execution_count": 105,
   "metadata": {},
   "outputs": [
    {
     "name": "stdout",
     "output_type": "stream",
     "text": [
      "{4, 5}\n",
      "{1, 2, 3, 4, 5, 6, 7}\n",
      "{1, 2, 3}\n",
      "{1, 2, 3, 6, 7}\n"
     ]
    }
   ],
   "source": [
    "print(mySet1.intersection(mySet2)) # 교집합\n",
    "print(mySet1.union(mySet2)) # 교집합\n",
    "print(mySet1.difference(mySet2)) # 교집합\n",
    "print(mySet1.symmetric_difference(mySet2)) # 교집합"
   ]
  },
  {
   "cell_type": "markdown",
   "metadata": {},
   "source": [
    "### 5. 문자열(불변형 데이터 형식)\n",
    "\n",
    "문자열은 문자를 연속해서 저장해 놓은 데이터 형식으로, 파이썬에서는 문자열을 큰따옴표(\" \")나 작은따옴표(' ')로 묶어서 표현한다. 문자열은 한번 데이터를 저장해 놓으면 변경할 수없는 불변형 데이터 형식이다."
   ]
  },
  {
   "cell_type": "markdown",
   "metadata": {},
   "source": [
    "$\\textbf{문자열 기본}$\n",
    "\n",
    "리스트에 접근하는 것과 문자열에 접근하는 것은 크게 다르지 않다. 리스트는 대괄호 []로 묶고, 문자열은 작은 따옴표로 묶어 출력된다는 것만 다르다."
   ]
  },
  {
   "cell_type": "code",
   "execution_count": 106,
   "metadata": {},
   "outputs": [
    {
     "name": "stdout",
     "output_type": "stream",
     "text": [
      "자\n",
      "료구조\n",
      " & 알고리즘\n"
     ]
    }
   ],
   "source": [
    "ss = \"자료구조 & 알고리즘\"\n",
    "print(ss[0])\n",
    "print(ss[1:4])\n",
    "print(ss[4:])"
   ]
  },
  {
   "cell_type": "markdown",
   "metadata": {},
   "source": [
    "문자열도 리스트와 마찬가지로 더하기(+) 기호를 사용하여 연결한다. 또 곱하기(*) 기호를 사용하여 문자열을 반복할 수도 있다."
   ]
  },
  {
   "cell_type": "code",
   "execution_count": 107,
   "metadata": {},
   "outputs": [
    {
     "name": "stdout",
     "output_type": "stream",
     "text": [
      "파이썬최고\n",
      "파이썬파이썬파이썬\n"
     ]
    }
   ],
   "source": [
    "ss = '파이썬' + '최고'\n",
    "print(ss)\n",
    "ss = '파이썬' * 3\n",
    "print(ss)"
   ]
  },
  {
   "cell_type": "markdown",
   "metadata": {},
   "source": [
    "문자열 길이를 파악할 때도 리스트처럼 `len()` 함수를 사용한다."
   ]
  },
  {
   "cell_type": "code",
   "execution_count": 108,
   "metadata": {},
   "outputs": [
    {
     "data": {
      "text/plain": [
       "7"
      ]
     },
     "execution_count": 108,
     "metadata": {},
     "output_type": "execute_result"
    }
   ],
   "source": [
    "ss = '파이썬abcd'\n",
    "len(ss)"
   ]
  },
  {
   "cell_type": "markdown",
   "metadata": {},
   "source": [
    "$\\textbf{문자열 검색}$\n",
    "\n",
    "`count(), find(), rfind(), index(), rindex()` 함수를 사용하면 문자열을 찾을 수 있다. 각 함수의 용도를 예와 함께 확인해본다."
   ]
  },
  {
   "cell_type": "code",
   "execution_count": 110,
   "metadata": {},
   "outputs": [
    {
     "name": "stdout",
     "output_type": "stream",
     "text": [
      "2\n",
      "4 21 21 -1\n",
      "4 21 21\n",
      "True False True\n"
     ]
    }
   ],
   "source": [
    "ss = '파이썬 공부는 즐겁습니다. 물론 모든 공부가 다 재미있지는 않죠. ^^'\n",
    "print(ss.count('공부'))\n",
    "print(ss.find('공부'), ss.rfind('공부'), ss.find('공부', 5), ss.find('없다'))\n",
    "print(ss.index('공부'), ss.rindex('공부'), ss.index('공부', 5))\n",
    "print(ss.startswith('파이썬'), ss.startswith('파이썬', 10), ss.endswith('^^'))"
   ]
  },
  {
   "cell_type": "markdown",
   "metadata": {},
   "source": [
    "- `count('찾을문자열')` : '찾을문자열' 이 몇 개 들어 있는지 개수 세기\n",
    "- `find('찾을문자열')` : '찾을문자열'이 왼쪽 끝(0번 위치)부터 시작해서 몇 번째에 위치하는지 찾기\n",
    "- `rfind('찾을문자열')` : `find()` 와 반대로 오른쪽부터 찾기"
   ]
  },
  {
   "cell_type": "markdown",
   "metadata": {},
   "source": [
    "$\\textbf{문자열 분리와 결합}$\n",
    "\n",
    "`split()` 함수는 문자열을 공백이나 다른 문자로 분리하여 리스트를 반환한다. `join()` 함수는 문자열을 서로 합친다."
   ]
  },
  {
   "cell_type": "code",
   "execution_count": 113,
   "metadata": {},
   "outputs": [
    {
     "name": "stdout",
     "output_type": "stream",
     "text": [
      "['Python을', '열심히', '공부', '중']\n",
      "['하나', '둘', '셋']\n",
      "['하나', '둘', '셋']\n",
      "파%이%썬\n"
     ]
    }
   ],
   "source": [
    "ss = 'Python을 열심히 공부 중'\n",
    "print(ss.split())\n",
    "ss = \"하나:둘:셋\"\n",
    "print(ss.split(':'))\n",
    "ss = \"하나\\n둘\\n셋\"\n",
    "print(ss.splitlines())\n",
    "ss = '%'\n",
    "print(ss.join('파이썬')) # '구분자'.join(리스트), '구분자'.join('문자열')"
   ]
  },
  {
   "cell_type": "markdown",
   "metadata": {},
   "source": [
    "$\\textbf{함수 이름 대입}$\n",
    "\n",
    "`map(함수이름, 리스트이름)` 함수는 리스트의 문자열 하나하나를 함수 이름에 대입한다. 따라서 다음 코드와 같은 방법으로 문자열로 구성된 리스트를 숫자로 변환할 수 있다."
   ]
  },
  {
   "cell_type": "code",
   "execution_count": 115,
   "metadata": {},
   "outputs": [
    {
     "data": {
      "text/plain": [
       "[2022, 12, 31]"
      ]
     },
     "execution_count": 115,
     "metadata": {},
     "output_type": "execute_result"
    }
   ],
   "source": [
    "before = ['2022', '12', '31']\n",
    "after = list(map(int, before))\n",
    "after"
   ]
  },
  {
   "cell_type": "markdown",
   "metadata": {},
   "source": [
    "`int()` 함수의 이름을 `map()` 함수의 매개변수로 사용한다. 즉, `int('2022'), int('12'), int('31')` 의 연속적인 효과를 가져온다. 그리고 다시 `list()` 함수를 사용하여 결과 값을 리스트 형태로 변환한다. 파이썬의 특징이 잘 살아 있는 함수이므로 기억하도록 한다."
   ]
  },
  {
   "cell_type": "markdown",
   "metadata": {},
   "source": [
    "### 6. 튜플(불변형 데이터 형식)\n",
    "\n",
    "튜플은 리스트와 사용법이 비슷하면서 약간 다르다. 리스트는 대괄호 []로 생성하지만 튜플은 소괄호 ()로 생성한다. 또한 튜플은 값을 수정할 수 없으며, 읽기만 가능하기에 읽기 전용 자료를 저장할 때 사용한다."
   ]
  },
  {
   "cell_type": "markdown",
   "metadata": {},
   "source": [
    "$\\textbf{튜플 생성과 삭제}$"
   ]
  },
  {
   "cell_type": "code",
   "execution_count": 116,
   "metadata": {},
   "outputs": [
    {
     "name": "stdout",
     "output_type": "stream",
     "text": [
      "(10, 20, 30)\n",
      "(10, 20, 30)\n"
     ]
    }
   ],
   "source": [
    "tt1 = (10, 20, 30) ; print(tt1)\n",
    "tt2 = 10, 20, 30 ; print(tt2)"
   ]
  },
  {
   "cell_type": "markdown",
   "metadata": {},
   "source": [
    "튜플은 소괄호 ()를 생략해도 된다. 다만 항목이 하나인 튜플 만들 때는 뒤에 쉼표 (,) 를 붙여야 한다."
   ]
  },
  {
   "cell_type": "code",
   "execution_count": 117,
   "metadata": {},
   "outputs": [
    {
     "name": "stdout",
     "output_type": "stream",
     "text": [
      "10\n",
      "10\n",
      "(10,)\n",
      "(10,)\n"
     ]
    }
   ],
   "source": [
    "tt3 = (10) ; print(tt3)\n",
    "tt4 = 10 ; print(tt4)\n",
    "tt5 = (10,) ; print(tt5)\n",
    "tt6 = 10, ; print(tt6)"
   ]
  },
  {
   "cell_type": "markdown",
   "metadata": {},
   "source": [
    "튜플은 읽기 전용이므로 다음 코드는 오류가 발생한다."
   ]
  },
  {
   "cell_type": "code",
   "execution_count": 122,
   "metadata": {},
   "outputs": [
    {
     "name": "stdout",
     "output_type": "stream",
     "text": [
      "튜플은 요소를 추가할 수 없다.\n",
      "튜플은 요소를 수정할 수 없다.\n",
      "튜플은 요소를 삭제할 수 없다.\n"
     ]
    }
   ],
   "source": [
    "try : \n",
    "    tt1.append(40)\n",
    "except:\n",
    "    if KeyError:\n",
    "        print(\"튜플은 요소를 추가할 수 없다.\")\n",
    "\n",
    "try:\n",
    "    tt1[0] = 40\n",
    "except:\n",
    "    if KeyError:\n",
    "        print(\"튜플은 요소를 수정할 수 없다.\")\n",
    "\n",
    "try:\n",
    "    del(tt1[0])\n",
    "except:\n",
    "    if KeyError:\n",
    "        print(\"튜플은 요소를 삭제할 수 없다.\")\n"
   ]
  },
  {
   "cell_type": "markdown",
   "metadata": {},
   "source": [
    "튜플 자체는 다음과 같이 `del()` 함수로 삭제할 수 있다."
   ]
  },
  {
   "cell_type": "code",
   "execution_count": 123,
   "metadata": {},
   "outputs": [],
   "source": [
    "del(tt1)\n",
    "del(tt2)"
   ]
  },
  {
   "cell_type": "markdown",
   "metadata": {},
   "source": [
    "$\\textbf{튜플 사용}$\n",
    "\n",
    "튜플 항목에 접근할 때는 리스트처럼 '튜플 이름[위치]'를 사용한다."
   ]
  },
  {
   "cell_type": "code",
   "execution_count": 124,
   "metadata": {},
   "outputs": [
    {
     "name": "stdout",
     "output_type": "stream",
     "text": [
      "10\n",
      "60\n"
     ]
    }
   ],
   "source": [
    "tt1 = (10, 20, 30, 40)\n",
    "print(tt1[0])\n",
    "print(tt1[0] + tt1[1] + tt1[2])"
   ]
  },
  {
   "cell_type": "markdown",
   "metadata": {},
   "source": [
    "튜플 범위에 접근하려면 리스트와 마찬가지로 '(시작값 : 끝값 + 1)'을 사용한다."
   ]
  },
  {
   "cell_type": "code",
   "execution_count": 125,
   "metadata": {},
   "outputs": [
    {
     "name": "stdout",
     "output_type": "stream",
     "text": [
      "(20, 30)\n",
      "(20, 30, 40)\n",
      "(10, 20, 30)\n"
     ]
    }
   ],
   "source": [
    "print(tt1[1:3])\n",
    "print(tt1[1:])\n",
    "print(tt1[:3])"
   ]
  },
  {
   "cell_type": "markdown",
   "metadata": {},
   "source": [
    "튜플의 덧셈 및 곱셈 연산도 가능하다."
   ]
  },
  {
   "cell_type": "code",
   "execution_count": 126,
   "metadata": {},
   "outputs": [
    {
     "name": "stdout",
     "output_type": "stream",
     "text": [
      "(10, 20, 30, 40, 'A', 'B')\n",
      "('A', 'B', 'A', 'B', 'A', 'B')\n"
     ]
    }
   ],
   "source": [
    "tt2 = ('A', 'B')\n",
    "print(tt1 + tt2)\n",
    "print(tt2 * 3)"
   ]
  },
  {
   "cell_type": "markdown",
   "metadata": {},
   "source": [
    "튜플과 리스트는 서로 변환할 수 있다. 예를 들어 튜플 항목을 변경하려면 먼저 튜플을 리스트로 변환하여 항목을 변경한 후 다시 튜플로 변환하는 방법을 사용할 수 있다. `list(튜플)` 함수는 튜플을 리스트로 변환하며, `tuple(리스트)` 함수는 리스트를 튜플로 변환한다."
   ]
  },
  {
   "cell_type": "code",
   "execution_count": 127,
   "metadata": {},
   "outputs": [
    {
     "name": "stdout",
     "output_type": "stream",
     "text": [
      "(10, 20, 30, 40)\n"
     ]
    }
   ],
   "source": [
    "myTuple = (10, 20, 30)\n",
    "myList = list(myTuple)\n",
    "myList.append(40)\n",
    "myTuple = tuple(myList)\n",
    "print(myTuple)"
   ]
  },
  {
   "cell_type": "markdown",
   "metadata": {},
   "source": [
    "## 응용예제 01 자동 로또 번호 생성기\n",
    "예제 설명 : 1 ~ 45 숫자 중에서 6개를 고르는 로또 번호를 자동으로 만들어 주는 프로그램을 작성하자. 사용자가 입력한 개수만큼 번호 쌍을 생성해 주는 기능을 한다."
   ]
  },
  {
   "cell_type": "code",
   "execution_count": 132,
   "metadata": {},
   "outputs": [
    {
     "name": "stdout",
     "output_type": "stream",
     "text": [
      "** 로또 번호 생성을 시작합니다. **\n",
      "자동번호--> [38, 12, 33, 21, 26, 23]\n",
      "자동번호--> [25, 37, 29, 33, 1, 19]\n",
      "자동번호--> [22, 9, 1, 31, 15, 28]\n",
      "자동번호--> [28, 16, 9, 33, 17, 34]\n",
      "자동번호--> [5, 27, 14, 22, 4, 42]\n"
     ]
    }
   ],
   "source": [
    "import random\n",
    "\n",
    "def lottery(nums : int):\n",
    "    \n",
    "    X = []\n",
    "    lotto_list = [i for i in range(1, 46)]\n",
    "    for _ in range(nums):\n",
    "        x = random.choice(lotto_list)\n",
    "        X.append(x)\n",
    "        lotto_list.remove(x)\n",
    "\n",
    "    return X\n",
    "\n",
    "if __name__ == \"__main__\":\n",
    "    # stateful = True\n",
    "    print(\"** 로또 번호 생성을 시작합니다. **\")\n",
    "    # while stateful:\n",
    "    nums = int(input(\"몇 번을 뽑을까요?\"))\n",
    "    for _ in range(nums):\n",
    "        X = lottery(6)\n",
    "        print(f\"자동번호--> {X}\")\n",
    "        "
   ]
  },
  {
   "cell_type": "code",
   "execution_count": 131,
   "metadata": {},
   "outputs": [
    {
     "name": "stdout",
     "output_type": "stream",
     "text": [
      "** 로또 번호 생성을 시작합니다. **\n",
      "자동번호-->  8  9 10 12 15 27 \n",
      "자동번호-->  4  8 16 23 27 33 \n",
      "자동번호-->  3  5  7 19 36 43 \n",
      "자동번호-->  8 11 19 35 37 43 \n",
      "자동번호-->  2  5 20 21 32 42 \n"
     ]
    }
   ],
   "source": [
    "## 교재 코드\n",
    "\n",
    "import random\n",
    "\n",
    "## 전역 변수 선언 부분 ##\n",
    "totalLotto = []\n",
    "lotto = []\n",
    "pickNum = 0\n",
    "count = 0\n",
    "\n",
    "## 메인 코드 부분 ##\n",
    "print(\"** 로또 번호 생성을 시작합니다. **\")\n",
    "count = int(input('몇 번을 뽑을까요?'))\n",
    "\n",
    "for _ in range(count):\n",
    "    lotto = []\n",
    "    while True:\n",
    "        pickNum = random.randint(1, 45)\n",
    "        if pickNum not in lotto:\n",
    "            lotto.append(pickNum)\n",
    "        if len(lotto) >= 6:\n",
    "            break\n",
    "    totalLotto.append(lotto)\n",
    "\n",
    "for lotto in totalLotto:\n",
    "    lotto.sort()\n",
    "    print('자동번호-->', end = ' ')\n",
    "    for i in range(0,6):\n",
    "        print(\"%2d\" % lotto[i], end = ' ')\n",
    "    print()"
   ]
  },
  {
   "cell_type": "markdown",
   "metadata": {},
   "source": [
    "## 응용예제 02 가장 많이 나온 글자 세기\n",
    "김소월의 진달래꽃 시에서 4회 이상 나온 글자를 센다. 단 영문/한글만 해당하고, 그 외는 인정하지 않는다."
   ]
  },
  {
   "cell_type": "code",
   "execution_count": 137,
   "metadata": {},
   "outputs": [
    {
     "name": "stdout",
     "output_type": "stream",
     "text": [
      "--------------------\n",
      "문자 빈도수(4회 이상)\n",
      "--------------------\n",
      "가--> 7\n",
      "에--> 4\n",
      "리--> 6\n",
      "다--> 4\n"
     ]
    }
   ],
   "source": [
    "poet = '''\n",
    "나 보기가 역겨워 가실 때에는 말없이 고이 보내 드리오리다\n",
    "영변에 약산 진달래꽃 아름 따다 가실 길에 뿌리오리다\n",
    "가시는 걸음 걸음 놓인 그 꽃을 사뿐히 즈려 밟고 가시옵소서\n",
    "나 보기가 역겨워 가실 때에는 죽어도 아니 눈물 흘리오리다\n",
    "'''\n",
    "\n",
    "# print(poet.split(\"\\n\"))\n",
    "\n",
    "def text_count(text : str):\n",
    "    str_dict = {}\n",
    "\n",
    "    X = text.split(\"\\n\")\n",
    "    X.pop()\n",
    "    X.remove('')\n",
    "    \n",
    "    for x in X:\n",
    "        for i in range(len(x)):\n",
    "            if x[i] not in str_dict:\n",
    "                str_dict[x[i]] = 1\n",
    "            else:\n",
    "                str_dict[x[i]] += 1\n",
    "    \n",
    "    del(str_dict[' '])\n",
    "\n",
    "    return str_dict\n",
    "\n",
    "# print(text_count(poet))\n",
    "\n",
    "if __name__ == \"__main__\":\n",
    "    str_dict = text_count(poet)\n",
    "    print(\"-\" * 20)\n",
    "    print(\"문자 빈도수(4회 이상)\")\n",
    "    print(\"-\" * 20)\n",
    "    for key, value in str_dict.items():\n",
    "        if str_dict[key] >= 4:\n",
    "            print(f\"{key}--> {value}\")\n",
    "        else:\n",
    "            continue    "
   ]
  },
  {
   "cell_type": "code",
   "execution_count": 138,
   "metadata": {},
   "outputs": [
    {
     "name": "stdout",
     "output_type": "stream",
     "text": [
      "원문 \n",
      "나 보기가 역겨워 가실 때에는 말없이 고이 보내 드리오리다\n",
      "영변에 약산 진달래꽃 아름 따다 가실 길에 뿌리오리다\n",
      "가시는 걸음 걸음 놓인 그 꽃을 사뿐히 즈려 밟고 가시옵소서\n",
      "나 보기가 역겨워 가실 때에는 죽어도 아니 눈물 흘리오리다\n",
      "\n",
      "---------------------\n",
      "문자 빈도수(4회 이상)\n",
      "---------------------\n",
      "가 --> 7\n",
      "에 --> 4\n",
      "리 --> 6\n",
      "다 --> 4\n"
     ]
    }
   ],
   "source": [
    "## 교재 코드\n",
    "\n",
    "## 전역 변수 선언 부분 ##\n",
    "\n",
    "poet = '''\n",
    "나 보기가 역겨워 가실 때에는 말없이 고이 보내 드리오리다\n",
    "영변에 약산 진달래꽃 아름 따다 가실 길에 뿌리오리다\n",
    "가시는 걸음 걸음 놓인 그 꽃을 사뿐히 즈려 밟고 가시옵소서\n",
    "나 보기가 역겨워 가실 때에는 죽어도 아니 눈물 흘리오리다\n",
    "'''\n",
    "\n",
    "countDic = {}\n",
    "\n",
    "## 메인 코드 부분 ##\n",
    "if __name__ == \"__main__\":\n",
    "    for ch in poet:\n",
    "        if ch.isalpha() :\n",
    "            if ch in countDic :\n",
    "                countDic[ch] += 1\n",
    "            else:\n",
    "                countDic[ch] = 1\n",
    "    \n",
    "    print('원문', poet)\n",
    "    print('---------------------')\n",
    "    print('문자 빈도수(4회 이상)')\n",
    "    print('---------------------')\n",
    "    for key in countDic:\n",
    "        if countDic[key] >= 4:\n",
    "            print(key, '-->', countDic[key])"
   ]
  }
 ],
 "metadata": {
  "kernelspec": {
   "display_name": "base",
   "language": "python",
   "name": "python3"
  },
  "language_info": {
   "codemirror_mode": {
    "name": "ipython",
    "version": 3
   },
   "file_extension": ".py",
   "mimetype": "text/x-python",
   "name": "python",
   "nbconvert_exporter": "python",
   "pygments_lexer": "ipython3",
   "version": "3.11.9"
  }
 },
 "nbformat": 4,
 "nbformat_minor": 2
}
