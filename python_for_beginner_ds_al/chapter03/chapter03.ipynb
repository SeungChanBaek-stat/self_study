{
 "cells": [
  {
   "cell_type": "markdown",
   "metadata": {},
   "source": [
    "# Chapter 03 선형 리스트"
   ]
  },
  {
   "cell_type": "markdown",
   "metadata": {},
   "source": [
    "## Section 00 생활 속 자료구조와 알고리즘\n",
    "맛집이나 마트에서 줄을 서는 것이 이 장에서 배울 선형 리스트의 개념이다."
   ]
  },
  {
   "cell_type": "markdown",
   "metadata": {},
   "source": [
    "## Section 01 파이썬의 기초 문법\n",
    "\n",
    "### 1. 선형 리스트의 개념\n",
    "\n",
    "선형 리스트(Linear List)는 데이터를 일정한 순서로 나열한 자료구조로, 순차 리스트(Ordered List)라고도 한다. 선형 리스트는 입력 순서대로 저장하는 데이터에 적당하다. 예를 들어 좋아하는 프로그래밍 언어 종류, 카톡으로 연락이 많이 온 친구 목록, 오늘 수업할 과목 등을 저장하기에 적당하다.\n",
    "\n",
    "선형 리스트는 다양한 방법으로 구현할 수 있지만 가장 기본적인 방법은 배열을 이용하는 것이다.\n",
    "\n",
    "선형 리스트는 메모리에서도 차례로 저장된다."
   ]
  },
  {
   "cell_type": "markdown",
   "metadata": {},
   "source": [
    "### 2. 선형 리스트의 원리\n",
    "\n",
    "$\\textbf{데이터 삽입}$\n",
    "\n",
    "```python\n",
    "Twice_List = ['다현', '정연', '쯔위', '사나', '지효', '모모']\n",
    "Twice_dict = {'다현' : 200, '정연' : 150, '쯔위' : 90, '사나' : 30, '지효' : 15, '모모': 1, '미나' : 40}\n",
    "```\n",
    "\n",
    "선형 리스트에 데이터를 삽입하는 과정을 알아본다. 카톡을 40회 보낸 미나를 선형 리스트에 삽입한다면 3등과 4등 사이에 들어가야 한다. 그런데 3등과 4등 사이에는 빈칸이 없으므로 1단계에서 맨 끝에 빈칸을 확보한 후 2단계에서 4~6등을 5~7등으로 옮겨 4등 자리를 비운다. 마지막으로 3단계에서 빈 4등 자리에 미나를 삽입하면 된다.\n",
    "\n",
    "$\\textbf{데이터 삭제}$\n",
    "\n",
    "'사나'를 삭제할 경우, 삭제된 후 빈칸을 그대로 두지 않고 뒤의 지효와 모모를 한 칸씩 이동시킨다. 2단계에서 지효, 모모를 앞으로 한 칸씩 옮겨 4등 자리를 채우고 3단계에서 맨 마지막 빈칸을 제거한다."
   ]
  },
  {
   "cell_type": "markdown",
   "metadata": {},
   "source": [
    "## 02 선형 리스트의 간단 구현\n",
    "\n",
    "### 1. 데이터가 5개인 선형 리스트 생성"
   ]
  },
  {
   "cell_type": "code",
   "execution_count": 1,
   "metadata": {},
   "outputs": [
    {
     "name": "stdout",
     "output_type": "stream",
     "text": [
      "['다현', '정연', '쯔위', '사나', '지효']\n"
     ]
    }
   ],
   "source": [
    "katok = [\"다현\", \"정연\", \"쯔위\", \"사나\", \"지효\"]\n",
    "print(katok)"
   ]
  },
  {
   "cell_type": "code",
   "execution_count": 2,
   "metadata": {},
   "outputs": [
    {
     "name": "stdout",
     "output_type": "stream",
     "text": [
      "다현\n",
      "지효\n"
     ]
    }
   ],
   "source": [
    "print(katok[0]) # 특등\n",
    "print(katok[4]) # 4등"
   ]
  },
  {
   "cell_type": "markdown",
   "metadata": {},
   "source": [
    "### 2. 데이터 삽입"
   ]
  },
  {
   "cell_type": "code",
   "execution_count": 3,
   "metadata": {},
   "outputs": [
    {
     "name": "stdout",
     "output_type": "stream",
     "text": [
      "['다현', '정연', '쯔위', '사나', '지효', None]\n"
     ]
    }
   ],
   "source": [
    "katok.append(None)\n",
    "print(katok)"
   ]
  },
  {
   "cell_type": "code",
   "execution_count": 4,
   "metadata": {},
   "outputs": [
    {
     "name": "stdout",
     "output_type": "stream",
     "text": [
      "['다현', '정연', '쯔위', '사나', '지효', '모모']\n"
     ]
    }
   ],
   "source": [
    "katok[5] = \"모모\"\n",
    "print(katok)"
   ]
  },
  {
   "cell_type": "code",
   "execution_count": 5,
   "metadata": {},
   "outputs": [
    {
     "name": "stdout",
     "output_type": "stream",
     "text": [
      "['다현', '정연', '쯔위', '사나', '지효', '모모', None]\n",
      "['다현', '정연', '쯔위', '사나', '지효', None, '모모']\n",
      "['다현', '정연', '쯔위', '사나', None, '지효', '모모']\n",
      "['다현', '정연', '쯔위', None, '사나', '지효', '모모']\n",
      "['다현', '정연', '쯔위', '미나', '사나', '지효', '모모']\n"
     ]
    }
   ],
   "source": [
    "## 미나 데이터 삽입 (3등)\n",
    "katok.append(None)\n",
    "print(katok)\n",
    "\n",
    "katok[6] = katok[5]\n",
    "katok[5] = None\n",
    "print(katok)\n",
    "\n",
    "katok[5] = katok[4]\n",
    "katok[4] = None\n",
    "print(katok)\n",
    "\n",
    "katok[4] = katok[3]\n",
    "katok[3] = None\n",
    "print(katok)\n",
    "\n",
    "katok[3] = \"미나\"\n",
    "print(katok)"
   ]
  },
  {
   "cell_type": "markdown",
   "metadata": {},
   "source": [
    "### 데이터 삭제"
   ]
  },
  {
   "cell_type": "code",
   "execution_count": 6,
   "metadata": {},
   "outputs": [],
   "source": [
    "## 사나 데이터 삭제 (4등)"
   ]
  },
  {
   "cell_type": "code",
   "execution_count": 7,
   "metadata": {},
   "outputs": [
    {
     "name": "stdout",
     "output_type": "stream",
     "text": [
      "['다현', '정연', '쯔위', '미나', '사나', '지효', '모모']\n",
      "['다현', '정연', '쯔위', '미나', None, '지효', '모모']\n",
      "['다현', '정연', '쯔위', '미나', '지효', '모모', None]\n",
      "['다현', '정연', '쯔위', '미나', '지효', '모모']\n"
     ]
    }
   ],
   "source": [
    "print(katok)\n",
    "katok[4] = None\n",
    "print(katok)\n",
    "katok[4] = katok[5]\n",
    "katok[5] = katok[6]\n",
    "katok[6] = None\n",
    "print(katok)\n",
    "\n",
    "del(katok[6])\n",
    "print(katok)"
   ]
  },
  {
   "cell_type": "markdown",
   "metadata": {},
   "source": [
    "## 03 선형 리스트의 일반 구현"
   ]
  },
  {
   "cell_type": "markdown",
   "metadata": {},
   "source": [
    "### 1. 배열을 이용한 선형 리스트 생성"
   ]
  },
  {
   "cell_type": "code",
   "execution_count": 8,
   "metadata": {},
   "outputs": [
    {
     "name": "stdout",
     "output_type": "stream",
     "text": [
      "['다현']\n"
     ]
    }
   ],
   "source": [
    "katok = []\n",
    "\n",
    "katok.append(None)\n",
    "N = len(katok)\n",
    "katok[N-1] = \"다현\"\n",
    "print(katok)"
   ]
  },
  {
   "cell_type": "code",
   "execution_count": 9,
   "metadata": {},
   "outputs": [
    {
     "name": "stdout",
     "output_type": "stream",
     "text": [
      "['다현', '정연']\n"
     ]
    }
   ],
   "source": [
    "katok.append(None)\n",
    "N = len(katok)\n",
    "katok[N-1] = \"정연\"\n",
    "print(katok)"
   ]
  },
  {
   "cell_type": "markdown",
   "metadata": {},
   "source": [
    "### 2. 선형 리스트 생성 함수의 완성"
   ]
  },
  {
   "cell_type": "code",
   "execution_count": 10,
   "metadata": {},
   "outputs": [
    {
     "name": "stdout",
     "output_type": "stream",
     "text": [
      "['다현']\n",
      "['다현', '정연']\n",
      "['다현', '정연', '쯔위']\n",
      "['다현', '정연', '쯔위', '사나']\n",
      "['다현', '정연', '쯔위', '사나', '지효']\n"
     ]
    }
   ],
   "source": [
    "import sys, os\n",
    "sys.path.append('..')\n",
    "from add_data import add_data\n",
    "\n",
    "katok = []\n",
    "add_data(katok, \"다현\")\n",
    "print(katok)\n",
    "add_data(katok, \"정연\")\n",
    "print(katok)\n",
    "add_data(katok, \"쯔위\")\n",
    "print(katok)\n",
    "add_data(katok, \"사나\")\n",
    "print(katok)\n",
    "add_data(katok, \"지효\")\n",
    "\n",
    "print(katok)"
   ]
  },
  {
   "cell_type": "markdown",
   "metadata": {},
   "source": [
    "### 3. 데이터 삽입\n",
    "\n",
    "$\\textbf{중간 데이터 삽입}$\n",
    "선형 리스트에 데이터를 삽입하는 과정을 코드 형태로 구현하면 다음과 같다.\n",
    "\n",
    "```python\n",
    "katok.append(None)\n",
    "\n",
    "for 현재위치 in range(마지막위치, 지정위치, -1):\n",
    "    katok[현재위치] = katok[현재위치 - 1]\n",
    "    katok[현재위치-1] = None\n",
    "\n",
    "katok[지정위치] = friend\n",
    "```\n",
    "\n",
    "$\\textbf{맨 끝 데이터 삽입}$\n",
    "\n",
    "for 문 조건에서 마지막 위치가 지정 위치와 처음부터 같으므로 for 문을 수행하지 않고 바로 빠져나온다. 결국 삽입할 위치가 중간이든 마지막이든 간에 동일한 코드로 작동하므로, 삽입 위치는 신경쓰지 않아도 된다.\n"
   ]
  },
  {
   "cell_type": "markdown",
   "metadata": {},
   "source": [
    "### 4. 데이터 삽입 함수의 완성"
   ]
  },
  {
   "cell_type": "code",
   "execution_count": 11,
   "metadata": {},
   "outputs": [
    {
     "name": "stdout",
     "output_type": "stream",
     "text": [
      "['다현', '정연', '쯔위', '사나', '지효']\n",
      "['다현', '정연', '솔라', '쯔위', '사나', '지효']\n",
      "['다현', '정연', '솔라', '쯔위', '사나', '지효', '문별']\n"
     ]
    }
   ],
   "source": [
    "import sys, os\n",
    "sys.path.append('..')\n",
    "from insert_data import insert_data\n",
    "\n",
    "katok = [\"다현\", \"정연\", \"쯔위\", \"사나\", \"지효\"]\n",
    "print(katok)\n",
    "insert_data(katok, 2, \"솔라\")\n",
    "print(katok)\n",
    "insert_data(katok, 6, \"문별\")\n",
    "print(katok)\n"
   ]
  },
  {
   "cell_type": "markdown",
   "metadata": {},
   "source": [
    "### 5. 데이터 삭제\n",
    "\n",
    "$\\textbf{중간 데이터 삭제}$\n",
    "\n",
    "선형 리스트에 데이터를 삭제하는 과정을 코드 형태로 구현하면 다음과 같다.\n",
    "\n",
    "```python\n",
    "katok[지정위치] = None\n",
    "for 현재위치 in range(지정위치 + 1, 마지막위치 + 1):\n",
    "    katok[현재위치-1] = katok[현재위치]\n",
    "    katok[현재위치] = None\n",
    "\n",
    "del(katok[마지막위치])\n",
    "```\n",
    "\n",
    "$\\textbf{맨 마지막 데이터 삭제}$\n",
    "\n",
    "작동 코드는 중간에 삭제하는 코드와 동일하다. for 문 range()에서 마지막 위치가 지정 위치와 처음부터 같기 때문에 for 문을 수행하지 않고 바로 빠져나온다. 결국 삭제할 위치가 중간이든 마지막이든 간에 동일한 코드로 작동하므로, 삭제 위치는 신경 쓰지 않아도 된다."
   ]
  },
  {
   "cell_type": "markdown",
   "metadata": {},
   "source": [
    "$\\textbf{데이터 삭제 함수의 완성}$"
   ]
  },
  {
   "cell_type": "code",
   "execution_count": 12,
   "metadata": {},
   "outputs": [
    {
     "name": "stdout",
     "output_type": "stream",
     "text": [
      "['다현', '정연', '쯔위', '사나', '지효']\n",
      "['다현', '쯔위', '사나', '지효']\n",
      "['다현', '쯔위', '사나']\n"
     ]
    }
   ],
   "source": [
    "import sys, os\n",
    "sys.path.append('..')\n",
    "from delete_data import delete_data\n",
    "\n",
    "katok = [\"다현\", \"정연\", \"쯔위\", \"사나\", \"지효\"]\n",
    "print(katok)\n",
    "\n",
    "delete_data(katok, 1)\n",
    "print(katok)\n",
    "delete_data(katok, 3)\n",
    "print(katok)"
   ]
  },
  {
   "cell_type": "markdown",
   "metadata": {},
   "source": [
    "$\\textbf{SELF STUDY 3-1}$\n",
    "`delete_data.py`를 수정하여 입력한 위치 이후가 모두 삭제되도록 하자."
   ]
  },
  {
   "cell_type": "code",
   "execution_count": 13,
   "metadata": {},
   "outputs": [
    {
     "name": "stdout",
     "output_type": "stream",
     "text": [
      "['다현', '정연', '쯔위', '사나', '지효']\n",
      "['다현']\n"
     ]
    }
   ],
   "source": [
    "import sys, os\n",
    "sys.path.append('..')\n",
    "from delete_data import delete_all_data\n",
    "\n",
    "katok = [\"다현\", \"정연\", \"쯔위\", \"사나\", \"지효\"]\n",
    "print(katok)\n",
    "\n",
    "delete_all_data(katok, 1)\n",
    "print(katok)"
   ]
  },
  {
   "cell_type": "markdown",
   "metadata": {},
   "source": [
    "### 6. 기본 선형 리스트의 완성\n",
    "\n",
    "chapter03/linear_list_test.py 참조\n",
    "\n",
    "```\n",
    "선택하세요(1: 추가, 2: 삽입, 3: 삭제, 4: 종료)--> 1\n",
    "추가할 데이터--> 다현\n",
    "['다현']\n",
    "선택하세요(1: 추가, 2: 삽입, 3: 삭제, 4: 종료)--> 1\n",
    "추가할 데이터--> 정연\n",
    "['다현', '정연']\n",
    "선택하세요(1: 추가, 2: 삽입, 3: 삭제, 4: 종료)--> 1\n",
    "추가할 데이터--> 쯔위\n",
    "['다현', '정연', '쯔위']\n",
    "선택하세요(1: 추가, 2: 삽입, 3: 삭제, 4: 종료)--> 2\n",
    "삽입할 위치--> 1\n",
    "추가할 데이터--> 하나\n",
    "['다현', '하나', '정연', '쯔위']\n",
    "선택하세요(1: 추가, 2: 삽입, 3: 삭제, 4: 종료)--> 2\n",
    "삽입할 위치--> 0\n",
    "추가할 데이터--> 문별\n",
    "['문별', '다현', '하나', '정연', '쯔위']\n",
    "선택하세요(1: 추가, 2: 삽입, 3: 삭제, 4: 종료)--> 3\n",
    "삽입할 위치--> 3\n",
    "['문별', '다현', '하나', '쯔위']\n",
    "선택하세요(1: 추가, 2: 삽입, 3: 삭제, 4: 종료)--> 4\n",
    "['문별', '다현', '하나', '쯔위']\n",
    "```"
   ]
  },
  {
   "cell_type": "markdown",
   "metadata": {},
   "source": [
    "## Section 04 선형 리스트의 응용\n",
    "\n",
    "### 1. 다항식의 선형 리스트 표현\n",
    "\n",
    "선형 리스트의 가장 많은 응용 중 하나는 다항식(Polynomial)을 저장하고 활용하는 것이다. 다항식 형식은 다음과 같다.\n",
    "\n",
    "\\begin{equation*}\n",
    "    P(x) = a_0 + a_1 x + a_2 x^{2} + \\cdots + a_n x^{n}\n",
    "\\end{equation*}"
   ]
  },
  {
   "cell_type": "markdown",
   "metadata": {},
   "source": [
    "예를 들어서 $P(x) = 7x^{3} -4x^{2} + 5$ 의 경우 선형 리스트로 저장한다면 다음과 같이 표현할 수 있다.\n",
    "\n",
    "```python\n",
    "P_x = [7, -4, 0, 5]\n",
    "```\n",
    "\n",
    "각 배열은 최고차항부터 나열한다고 가정한 후 다항식 계수들을 배열에 저장시키는 방식을 사용한다."
   ]
  },
  {
   "cell_type": "code",
   "execution_count": 14,
   "metadata": {},
   "outputs": [
    {
     "name": "stdout",
     "output_type": "stream",
     "text": [
      "[7, -4, 0, 5]\n"
     ]
    }
   ],
   "source": [
    "px = [7, -4, 0, 5]\n",
    "print(px)"
   ]
  },
  {
   "cell_type": "markdown",
   "metadata": {},
   "source": [
    "$x$ 값이 2라면 다음과 같이 파이썬 수식으로 계산 가능하다."
   ]
  },
  {
   "cell_type": "code",
   "execution_count": 15,
   "metadata": {},
   "outputs": [
    {
     "name": "stdout",
     "output_type": "stream",
     "text": [
      "45\n"
     ]
    }
   ],
   "source": [
    "x = 2\n",
    "pxVal = 7 * x**3 - 4 * x**2 + 0 * x**1 + 5 * x**0\n",
    "print(pxVal)"
   ]
  },
  {
   "cell_type": "markdown",
   "metadata": {},
   "source": [
    "다항식 형태를 출력해보면 다음과 같다."
   ]
  },
  {
   "cell_type": "code",
   "execution_count": 17,
   "metadata": {},
   "outputs": [
    {
     "name": "stdout",
     "output_type": "stream",
     "text": [
      "P(x) = 7x^3 + -4x^2 + 0x^1 + 5x^0\n"
     ]
    }
   ],
   "source": [
    "px = [7, -4, 0, 5]\n",
    "polyStr = \"P(x) = \"\n",
    "polyStr += str(px[0]) + \"x^\" + str(3)\n",
    "polyStr += \" + \" + str(px[1]) + \"x^\" + str(2)\n",
    "polyStr += \" + \" + str(px[2]) + \"x^\" + str(1)\n",
    "polyStr += \" + \" + str(px[3]) + \"x^\" + str(0)\n",
    "\n",
    "print(polyStr)"
   ]
  },
  {
   "cell_type": "markdown",
   "metadata": {},
   "source": [
    "### 2. 다항식의 선형 리스트 표현과 계산 프로그램"
   ]
  },
  {
   "cell_type": "markdown",
   "metadata": {},
   "source": [
    "chapter03/poly_test.py\n",
    "```\n",
    "P(x) = +7x^3 -4x^2 +0x^1 +5x^0 \n",
    "X 값-->2\n",
    "45\n",
    "```"
   ]
  },
  {
   "cell_type": "markdown",
   "metadata": {},
   "source": [
    "$\\textbf{SELF STUDY 3-2}$\n",
    "\n",
    "`printPoly()` 함수를 수정해서 계수가 0인 항은 출력되지 않도록 한다. 또한 첫 번째 항의 + 부호도 출력되지 않도록 한다."
   ]
  },
  {
   "cell_type": "markdown",
   "metadata": {},
   "source": [
    "chapter03/self_3_2.py\n",
    "```\n",
    "P(x) = 7x^3 -4x^2 +5x^0 \n",
    "X 값-->2\n",
    "45\n",
    "```"
   ]
  },
  {
   "cell_type": "markdown",
   "metadata": {},
   "source": [
    "### 3. 특수 다항식 처리 프로그램\n",
    "\n",
    "앞서 다항식이 별 문제없이 처리되었다. 하지만 다음과 같이 지수가 상당히 큰 다항식은 어떻게 처리해야 할지 생각해본다.\n",
    "\n",
    "\\begin{equation*}\n",
    "    P(x) = 7x^{300} -4x^{20} + 5\n",
    "\\end{equation*}"
   ]
  },
  {
   "cell_type": "markdown",
   "metadata": {},
   "source": [
    "이 형식을 기존 polyfunction.py 코드로 적용하려면 총 301개의 원소값을 일일이 지정한 리스트를 생성해야 한다.\n",
    "\n",
    "이를 간단히 처리하고자 모든 계수를 저장하지 않고 0이 아닌 계수와 항의 차수만 저장하는 방식을 사용할 수 있다."
   ]
  },
  {
   "cell_type": "code",
   "execution_count": 20,
   "metadata": {},
   "outputs": [],
   "source": [
    "tx = [300, 20, 0]   # 항 차수\n",
    "px = [7, -4, 5]     # 각 항 위치의 계수"
   ]
  },
  {
   "cell_type": "code",
   "execution_count": 1,
   "metadata": {},
   "outputs": [
    {
     "name": "stdout",
     "output_type": "stream",
     "text": [
      "dict_items([('다현', 200), ('정연', 150), ('쯔위', 90), ('사나', 30), ('지효', 15)])\n"
     ]
    }
   ],
   "source": [
    "twice_dic = {'다현' : 200, '정연' : 150, '쯔위' : 90, '사나' : 30, '지효' : 15}\n",
    "print(twice_dic.items())"
   ]
  },
  {
   "cell_type": "markdown",
   "metadata": {},
   "source": [
    "## 응용예제 01 카톡 친구 자동 삽입하기\n",
    "카톡 친구 이름과 카톡 횟수를 입력하면 자동으로 위치를 찾아 삽입하는 프로그램이다. 카톡 친구의 초기 정보는 정보를 모두 저장하도록 ('친구이름', 연락횟수) 튜플 리스트로 시작한다.\n",
    "\n",
    "```python\n",
    "[('다현', 200), ('정연', 150), ('쯔위', 90), ('사나', 30), ('지효', 15)]\n",
    "```\n",
    "\n",
    "새로운 친구 '미나'와 40회를 입력하면 자동으로 자신의 순위에 해당하는 위치를 찾아 삽입된다. 동일한 연락 횟수라면 새로운 친구를 앞 순위로 지정한다.\n",
    "\n",
    "```python\n",
    "[('다현', 200), ('정연', 150), ('쯔위', 90), ('미나', 40), ('사나', 30), ('지효', 15)]\n",
    "```"
   ]
  },
  {
   "cell_type": "code",
   "execution_count": null,
   "metadata": {},
   "outputs": [
    {
     "name": "stdout",
     "output_type": "stream",
     "text": [
      "[('다현', 200), ('정연', 150), ('쯔위', 90), ('미나', 40), ('사나', 30), ('지효', 15)]\n",
      "[('혜리', 200), ('다현', 200), ('정연', 150), ('쯔위', 90), ('미나', 40), ('사나', 30), ('지효', 15)]\n"
     ]
    }
   ],
   "source": [
    "friend_list = [('다현', 200), ('정연', 150), ('쯔위', 90), ('사나', 30), ('지효', 15)]\n",
    "\n",
    "def add_friend(friend_list:list, friend:str, calls:int):\n",
    "    friend_list.append(None)\n",
    "    friend_list[-1] = (friend, calls)\n",
    "    for i in range(1, (len(friend_list))):\n",
    "        if friend_list[-i][1] >= friend_list[-(i+1)][1]:\n",
    "            friend_list[-i], friend_list[-(i+1)] = friend_list[-(i+1)], friend_list[-i]\n",
    "        else:\n",
    "            break\n",
    "\n",
    "\n",
    "    return friend_list\n",
    "\n",
    "\n",
    "## 메인 코드 부분 ##\n",
    "if __name__ == \"__main__\":\n",
    "    while True:\n",
    "        friend = str(input(\"추가할 친구-->\"))\n",
    "        if friend in ('Stop', '그만'):\n",
    "            break\n",
    "        calls = int(input(\"카톡 횟수-->\"))\n",
    "        print(add_friend(friend_list, friend, calls))"
   ]
  },
  {
   "cell_type": "code",
   "execution_count": 17,
   "metadata": {},
   "outputs": [
    {
     "name": "stdout",
     "output_type": "stream",
     "text": [
      "[('다현', 200), ('정연', 150), ('쯔위', 90), ('미나', 40), ('사나', 30), ('지효', 15)]\n",
      "[('혜리', 200), ('다현', 200), ('정연', 150), ('쯔위', 90), ('미나', 40), ('사나', 30), ('지효', 15)]\n"
     ]
    }
   ],
   "source": [
    "## 교재 코드 -- 교재에 있는 코드는 틀렸기에 수정본 첨부\n",
    "\n",
    "## 함수 선언 부분 ##\n",
    "def insert_data(position, friend):\n",
    "    if position < 0 or position > len(katok):\n",
    "        print(\"데이터를 삽입할 범위를 벗어났습니다.\")\n",
    "        return\n",
    "    \n",
    "    katok.append(None)\n",
    "    kLen = len(katok)\n",
    "\n",
    "    for i in range(kLen - 1, position, -1):\n",
    "        katok[i] = katok[i - 1]\n",
    "\n",
    "    katok[position] = friend\n",
    "\n",
    "def find_and_insert_data(friend, k_count):\n",
    "    findPos = len(katok)  # 기본적으로 맨 끝에 삽입\n",
    "    for i in range(len(katok)):\n",
    "        if k_count >= katok[i][1]:  # 연락 횟수 기준 삽입 위치 탐색\n",
    "            findPos = i\n",
    "            break\n",
    "    \n",
    "    insert_data(findPos, (friend, k_count))\n",
    "\n",
    "## 전역 변수 선언 부분 ##\n",
    "katok = [('다현', 200), ('정연', 150), ('쯔위', 90), ('사나', 30), ('지효', 15)]\n",
    "\n",
    "## 메인 코드 부분 ##\n",
    "if __name__ == \"__main__\":\n",
    "    while True:\n",
    "        data = input(\"추가할 친구--> (그만하려면 'Stop' 입력)\")\n",
    "        if data.lower() == 'stop':\n",
    "            break\n",
    "        count = int(input(\"카톡 횟수--> \"))\n",
    "        find_and_insert_data(data, count)\n",
    "        print(katok)"
   ]
  }
 ],
 "metadata": {
  "kernelspec": {
   "display_name": "base",
   "language": "python",
   "name": "python3"
  },
  "language_info": {
   "codemirror_mode": {
    "name": "ipython",
    "version": 3
   },
   "file_extension": ".py",
   "mimetype": "text/x-python",
   "name": "python",
   "nbconvert_exporter": "python",
   "pygments_lexer": "ipython3",
   "version": "3.11.9"
  }
 },
 "nbformat": 4,
 "nbformat_minor": 2
}
