{
 "cells": [
  {
   "cell_type": "markdown",
   "metadata": {},
   "source": [
    "# Chapter 06 스택"
   ]
  },
  {
   "cell_type": "markdown",
   "metadata": {},
   "source": [
    "스택 : First In Last Out"
   ]
  },
  {
   "cell_type": "code",
   "execution_count": 1,
   "metadata": {},
   "outputs": [
    {
     "name": "stdout",
     "output_type": "stream",
     "text": [
      "--- 스택 상태 ---\n",
      "None\n",
      "None\n",
      "꿀물\n",
      "녹차\n",
      "커피\n"
     ]
    }
   ],
   "source": [
    "stack = [None, None, None, None, None]\n",
    "top = -1\n",
    "\n",
    "top += 1\n",
    "stack[top] = '커피'\n",
    "top += 1\n",
    "stack[top] = '녹차'\n",
    "top += 1\n",
    "stack[top] = '꿀물'\n",
    "\n",
    "print(\"--- 스택 상태 ---\")\n",
    "for i in range(len(stack)-1, -1, -1):\n",
    "    print(stack[i])\n"
   ]
  },
  {
   "cell_type": "code",
   "execution_count": 3,
   "metadata": {},
   "outputs": [
    {
     "name": "stdout",
     "output_type": "stream",
     "text": [
      "---스택 상태---\n",
      "None\n",
      "None\n",
      "꿀물\n",
      "녹차\n",
      "커피\n",
      "--------------\n",
      "pop --> 꿀물\n",
      "pop --> 녹차\n",
      "pop --> 커피\n",
      "--------------\n",
      "---스택 상태---\n",
      "None\n",
      "None\n",
      "None\n",
      "None\n",
      "None\n"
     ]
    }
   ],
   "source": [
    "stack = ['커피', '녹차', '꿀물', None, None]\n",
    "top = 2\n",
    "\n",
    "print(\"---스택 상태---\")\n",
    "for i in range(len(stack) - 1, -1, -1):\n",
    "    print(stack[i])\n",
    "\n",
    "print(\"--------------\")\n",
    "data = stack[top]\n",
    "stack[top] = None\n",
    "top -= 1\n",
    "print(\"pop -->\", data)\n",
    "\n",
    "data = stack[top]\n",
    "stack[top] = None\n",
    "top -= 1\n",
    "print(\"pop -->\", data)\n",
    "\n",
    "data = stack[top]\n",
    "stack[top] = None\n",
    "top -= 1\n",
    "print(\"pop -->\", data)\n",
    "print(\"--------------\")\n",
    "\n",
    "print(\"---스택 상태---\")\n",
    "for i in range(len(stack) - 1, -1, -1):\n",
    "    print(stack[i])\n"
   ]
  },
  {
   "cell_type": "code",
   "execution_count": 4,
   "metadata": {},
   "outputs": [],
   "source": [
    "SIZE = 5\n",
    "stack = [None for _ in range(SIZE)]\n",
    "top = -1"
   ]
  },
  {
   "cell_type": "code",
   "execution_count": 5,
   "metadata": {},
   "outputs": [],
   "source": [
    "def isStackFull():\n",
    "    global SIZE, stack, top\n",
    "    if top >= SIZE - 1:\n",
    "        return True\n",
    "    else:\n",
    "        return False"
   ]
  },
  {
   "cell_type": "code",
   "execution_count": 6,
   "metadata": {},
   "outputs": [
    {
     "name": "stdout",
     "output_type": "stream",
     "text": [
      "스택이 꽉 찼는지 여부 --> True\n"
     ]
    }
   ],
   "source": [
    "SIZE = 5\n",
    "stack = [\"커피\", \"녹차\", \"꿀물\", \"콜라\", \"환타\"]\n",
    "top = 4\n",
    "\n",
    "print(\"스택이 꽉 찼는지 여부 -->\", isStackFull())"
   ]
  },
  {
   "cell_type": "code",
   "execution_count": 9,
   "metadata": {},
   "outputs": [],
   "source": [
    "def push(data):\n",
    "    global SIZE, stack, top\n",
    "    if isStackFull() == True:\n",
    "        print(\"스택이 꽉 찼습니다.\")\n",
    "        return\n",
    "    else:\n",
    "        top += 1\n",
    "        stack[top] = data"
   ]
  },
  {
   "cell_type": "code",
   "execution_count": 10,
   "metadata": {},
   "outputs": [
    {
     "name": "stdout",
     "output_type": "stream",
     "text": [
      "['커피', '녹차', '꿀물', '콜라', None]\n",
      "['커피', '녹차', '꿀물', '콜라', '환타']\n",
      "스택이 꽉 찼습니다.\n"
     ]
    }
   ],
   "source": [
    "SIZE = 5\n",
    "stack = [\"커피\", \"녹차\", \"꿀물\", \"콜라\", None]\n",
    "top = 3\n",
    "\n",
    "print(stack)\n",
    "push(\"환타\")\n",
    "print(stack)\n",
    "push(\"게토레이\")"
   ]
  },
  {
   "cell_type": "code",
   "execution_count": 11,
   "metadata": {},
   "outputs": [],
   "source": [
    "def isStackEmpty():\n",
    "    global SIZE, stack, top\n",
    "    if top == -1:\n",
    "        return True\n",
    "    else:\n",
    "        return False"
   ]
  },
  {
   "cell_type": "code",
   "execution_count": 12,
   "metadata": {},
   "outputs": [
    {
     "name": "stdout",
     "output_type": "stream",
     "text": [
      "스택이 비었는지 여부 --> True\n"
     ]
    }
   ],
   "source": [
    "SIZE = 5\n",
    "stack = [None for _ in range(SIZE)]\n",
    "top = -1\n",
    "\n",
    "print(\"스택이 비었는지 여부 -->\", isStackEmpty())"
   ]
  },
  {
   "cell_type": "code",
   "execution_count": 13,
   "metadata": {},
   "outputs": [],
   "source": [
    "def pop():\n",
    "    global SIZE, stack, top\n",
    "    if isStackEmpty() == True:\n",
    "        print(\"스택이 비었습니다.\")\n",
    "        return None\n",
    "    else:\n",
    "        data = stack[top]\n",
    "        stack[top] = None\n",
    "        top -= 1\n",
    "        return data"
   ]
  },
  {
   "cell_type": "code",
   "execution_count": 14,
   "metadata": {},
   "outputs": [
    {
     "name": "stdout",
     "output_type": "stream",
     "text": [
      "['커피', None, None, None, None]\n",
      "pop 데이터 --> 커피\n",
      "[None, None, None, None, None]\n",
      "스택이 비었습니다.\n"
     ]
    }
   ],
   "source": [
    "SIZE = 5\n",
    "stack = [\"커피\", None, None, None, None]\n",
    "top = 0\n",
    "\n",
    "print(stack)\n",
    "retData = pop()\n",
    "print(\"pop 데이터 -->\", retData)\n",
    "print(stack)\n",
    "retData = pop()"
   ]
  },
  {
   "cell_type": "code",
   "execution_count": 22,
   "metadata": {},
   "outputs": [],
   "source": [
    "def pop_2():\n",
    "    global SIZE, stack, top\n",
    "    data = stack[top]\n",
    "    if data == None:\n",
    "        print(\"스택이 비었습니다.\")\n",
    "        return None\n",
    "    else:\n",
    "        stack[top] = None\n",
    "        top -= 1\n",
    "        return data"
   ]
  },
  {
   "cell_type": "code",
   "execution_count": 23,
   "metadata": {},
   "outputs": [
    {
     "name": "stdout",
     "output_type": "stream",
     "text": [
      "['커피', None, None, None, None]\n",
      "추출한 데이터 --> 커피\n",
      "[None, None, None, None, None]\n",
      "스택이 비었습니다.\n"
     ]
    }
   ],
   "source": [
    "SIZE = 5\n",
    "stack = [\"커피\", None, None, None, None]\n",
    "top = 0\n",
    "\n",
    "print(stack)\n",
    "retData = pop_2()\n",
    "print(\"추출한 데이터 -->\", retData)\n",
    "print(stack)\n",
    "retData = pop_2()\n"
   ]
  },
  {
   "cell_type": "code",
   "execution_count": 24,
   "metadata": {},
   "outputs": [
    {
     "name": "stdout",
     "output_type": "stream",
     "text": [
      "['커피', '녹차', '꿀물', None, None]\n",
      "peek 데이터 --> 꿀물\n",
      "['커피', '녹차', '꿀물', None, None]\n"
     ]
    }
   ],
   "source": [
    "def peek():\n",
    "    global SIZE, stack, top\n",
    "    if isStackEmpty() == True:\n",
    "        print(\"스택이 비었습니다.\")\n",
    "        return None\n",
    "    return stack[top]\n",
    "\n",
    "SIZE = 5\n",
    "stack = [\"커피\", \"녹차\", \"꿀물\", None, None]\n",
    "top = 2\n",
    "\n",
    "print(stack)\n",
    "retData = peek()\n",
    "print(\"peek 데이터 -->\", retData)\n",
    "print(stack)"
   ]
  },
  {
   "cell_type": "code",
   "execution_count": 45,
   "metadata": {},
   "outputs": [],
   "source": [
    "class PythonStack:\n",
    "    def __init__(self, SIZE):\n",
    "        self.stack = [None for _ in range(SIZE)]\n",
    "        self.top = -1\n",
    "\n",
    "    def isStackFull(self):\n",
    "        if self.top >= len(self.stack) - 1:\n",
    "            return True\n",
    "        else:\n",
    "            return False\n",
    "        \n",
    "    def push(self, data):\n",
    "        if self.isStackFull() == True:\n",
    "            print(\"스택이 꽉 찼습니다.\")\n",
    "            return\n",
    "        else:\n",
    "            self.top += 1\n",
    "            self.stack[self.top] = data\n",
    "\n",
    "    def isStackEmpty(self):\n",
    "        if self.top == -1:\n",
    "            return True\n",
    "        else:\n",
    "            return False\n",
    "        \n",
    "    def pop(self):\n",
    "        if self.isStackEmpty() == True:\n",
    "            print(\"스택이 비었습니다.\")\n",
    "            return None\n",
    "        else:\n",
    "            data = self.stack[self.top]\n",
    "            self.stack[self.top] = None\n",
    "            self.top -= 1\n",
    "            return data\n",
    "        \n",
    "    def peek(self):\n",
    "        if self.isStackEmpty() == True:\n",
    "            print(\"스택이 비었습니다.\")\n",
    "            return None\n",
    "        return self.stack[self.top]"
   ]
  },
  {
   "cell_type": "code",
   "execution_count": 27,
   "metadata": {},
   "outputs": [
    {
     "name": "stdout",
     "output_type": "stream",
     "text": [
      "스택 상태 :  ['커피', None, None, None, None]\n",
      "스택 상태 :  ['커피', '녹차', None, None, None]\n",
      "스택 상태 :  ['커피', '녹차', '꿀물', None, None]\n",
      "확인된 데이터 -->  꿀물\n",
      "스택 상태 :  ['커피', '녹차', '꿀물', None, None]\n",
      "추출된 데이터 -->  꿀물\n",
      "스택 상태 :  ['커피', '녹차', None, None, None]\n",
      "추출된 데이터 -->  녹차\n",
      "스택 상태 :  ['커피', None, None, None, None]\n",
      "추출된 데이터 -->  커피\n",
      "스택 상태 :  [None, None, None, None, None]\n",
      "스택이 비었습니다.\n",
      "추출된 데이터 -->  None\n",
      "스택 상태 :  [None, None, None, None, None]\n",
      "프로그램 종료!\n"
     ]
    }
   ],
   "source": [
    "SIZE = int(input(\"스택의 크기를 입력하세요 --> \"))\n",
    "stack_test = PythonStack(SIZE)\n",
    "\n",
    "\n",
    "## 메인 코드 부분 ##\n",
    "if __name__ == \"__main__\":\n",
    "    select = input(\"1. push(I)  2. pop(E)  3. peek(V)  4. 종료(X) --> \")\n",
    "\n",
    "    while select != 'X' and select != 'x':\n",
    "        if select == 'I' or select == 'i':\n",
    "            data = input(\"입력할 데이터 --> \")\n",
    "            stack_test.push(data)\n",
    "            print(\"스택 상태 : \", stack_test.stack)\n",
    "        elif select == 'E' or select == 'e':\n",
    "            retData = stack_test.pop()\n",
    "            print(\"추출된 데이터 --> \", retData)\n",
    "            print(\"스택 상태 : \", stack_test.stack)\n",
    "        elif select == 'V' or select == 'v':\n",
    "            retData = stack_test.peek()\n",
    "            print(\"확인된 데이터 --> \", retData)\n",
    "            print(\"스택 상태 : \", stack_test.stack)\n",
    "        else:\n",
    "            print(\"입력이 잘못되었습니다.\")\n",
    "\n",
    "        select = input(\"1. push(I)  2. pop(E)  3. peek(V)  4. 종료(X) --> \")\n",
    "    \n",
    "    print(\"프로그램 종료!\")\n",
    "\n"
   ]
  },
  {
   "cell_type": "code",
   "execution_count": 28,
   "metadata": {},
   "outputs": [
    {
     "data": {
      "text/plain": [
       "True"
      ]
     },
     "execution_count": 28,
     "metadata": {},
     "output_type": "execute_result"
    }
   ],
   "source": [
    "import webbrowser\n",
    "webbrowser.open(\"http://www.hanbit.co.kr\")"
   ]
  },
  {
   "cell_type": "code",
   "execution_count": 29,
   "metadata": {},
   "outputs": [
    {
     "name": "stdout",
     "output_type": "stream",
     "text": [
      "스택이 비었습니다.\n",
      "이전 페이지 기록이 없습니다.\n",
      "프로그램 종료!\n"
     ]
    }
   ],
   "source": [
    "import webbrowser\n",
    "import time\n",
    "\n",
    "## 스택을 활용한 웹 브라우저의 [이전 페이지] 버튼 기능 구현\n",
    "SIZE = 100\n",
    "stack = PythonStack(SIZE)\n",
    "\n",
    "## 메인 코드 부분 ##\n",
    "if __name__ == \"__main__\":\n",
    "    webbrowser.open(\"http://www.naver.com\")\n",
    "    stack.push(\"http://www.naver.com\")\n",
    "    time.sleep(1)\n",
    "    webbrowser.open(\"http://www.google.com\")\n",
    "    stack.push(\"http://www.google.com\")\n",
    "    time.sleep(1)\n",
    "    webbrowser.open(\"http://www.daum.net\")\n",
    "    stack.push(\"http://www.daum.net\")\n",
    "    time.sleep(1)\n",
    "    select = input(\"1. 이전 페이지  2. 종료 --> \")\n",
    "\n",
    "    while select != '2':\n",
    "        if select == '1':\n",
    "            url = stack.pop()\n",
    "            if url != None:\n",
    "                webbrowser.open(url)\n",
    "            else:\n",
    "                print(\"이전 페이지 기록이 없습니다.\")\n",
    "        else:\n",
    "            print(\"입력이 잘못되었습니다.\")\n",
    "\n",
    "        select = input(\"1. 이전 페이지  2. 종료 --> \")\n",
    "\n",
    "    print(\"프로그램 종료!\")"
   ]
  },
  {
   "cell_type": "code",
   "execution_count": 53,
   "metadata": {},
   "outputs": [],
   "source": [
    "## 스택을 활용한 괄호 매칭 검사 구현\n",
    "\n",
    "# def checkBracket(expr):\n",
    "#     for ch in expr:\n",
    "#         if ch in ('{', '[', '(', '<'):\n",
    "#             stack.push(ch)\n",
    "#         elif ch in ('}', ']', ')', '>'):\n",
    "#             out = stack.pop()\n",
    "#             if (ch == '}' and out != '{') or (ch == ']' and out != '[') or (ch == ')' and out != '(') or (ch == '>' and out != '<'):\n",
    "#                 pass\n",
    "#             else:\n",
    "#                 return False\n",
    "#         else:\n",
    "#             pass\n",
    "#     if stack.isStackEmpty() == True:\n",
    "#         return True\n",
    "#     else:\n",
    "#         return False\n",
    "    \n",
    "\n",
    "def checkBracket(expr):\n",
    "    for ch in expr:\n",
    "        if ch in ('{', '[', '(', '<'):\n",
    "            stack.push(ch)\n",
    "        elif ch in ('}', ']', ')', '>'):\n",
    "            out = stack.pop()\n",
    "            if (ch == '}' and out != '{') or (ch == ']' and out != '[') or (ch == ')' and out != '(') or (ch == '>' and out != '<'):\n",
    "                return False\n",
    "        else:\n",
    "            pass\n",
    "    if stack.isStackEmpty():\n",
    "        return True\n",
    "    else:\n",
    "        return False"
   ]
  },
  {
   "cell_type": "code",
   "execution_count": 54,
   "metadata": {},
   "outputs": [
    {
     "name": "stdout",
     "output_type": "stream",
     "text": [
      "(A+B) ---> True\n",
      "스택이 비었습니다.\n",
      ")A+B( ---> False\n",
      "((A+B)-C ---> False\n",
      "(A+B] ---> False\n",
      "(<A+{B-C}/[C*D]>) ---> True\n"
     ]
    }
   ],
   "source": [
    "## 전역 변수 선언 부분 ##\n",
    "SIZE = 100\n",
    "stack = PythonStack(SIZE)\n",
    "\n",
    "if __name__ == \"__main__\":\n",
    "\n",
    "    exprAry = ['(A+B)', ')A+B(', '((A+B)-C', '(A+B]', '(<A+{B-C}/[C*D]>)']\n",
    "    for expr in exprAry:\n",
    "        stack = PythonStack(SIZE)\n",
    "        print(expr, '--->', checkBracket(expr))\n"
   ]
  },
  {
   "cell_type": "markdown",
   "metadata": {},
   "source": [
    "## 응용예제 01\n",
    "\n",
    "헨젤과 그레텔이 돌을 떨어뜨리면서 숲으로 들어간다. 과자집에서 집으로 돌아갈 때는 떨어뜨린 순서와 반대로 돌을 주워야 한다. 스택을 이용해서 집으로 무사히 돌아가도록 하자.\n"
   ]
  },
  {
   "cell_type": "code",
   "execution_count": 56,
   "metadata": {},
   "outputs": [
    {
     "name": "stdout",
     "output_type": "stream",
     "text": [
      "과자집에 가는 길 : 노랑 -->보라 -->초록 -->빨강 -->파랑 -->주황 -->과자집 도착\n",
      "집으로 돌아가는 길 : 주황 -->파랑 -->빨강 -->초록 -->보라 -->노랑 -->집 도착\n"
     ]
    }
   ],
   "source": [
    "import random\n",
    "\n",
    "\n",
    "## 함수 선언 부분 ##\n",
    "class HenzelStack:\n",
    "    def __init__(self, SIZE):\n",
    "        self.stack = [None for _ in range(SIZE)]\n",
    "        self.top = -1\n",
    "\n",
    "    def isStackFull(self):\n",
    "        if self.top >= len(self.stack) - 1:\n",
    "            return True\n",
    "        else:\n",
    "            return False\n",
    "        \n",
    "    def push(self, data):\n",
    "        if self.isStackFull() == True:\n",
    "            return\n",
    "        else:\n",
    "            self.top += 1\n",
    "            self.stack[self.top] = data\n",
    "\n",
    "    def isStackEmpty(self):\n",
    "        if self.top == -1:\n",
    "            return True\n",
    "        else:\n",
    "            return False\n",
    "        \n",
    "    def pop(self):\n",
    "        if self.isStackEmpty() == True:\n",
    "            return None\n",
    "        else:\n",
    "            data = self.stack[self.top]\n",
    "            self.stack[self.top] = None\n",
    "            self.top -= 1\n",
    "            return data\n",
    "        \n",
    "    def peek(self):\n",
    "        if self.isStackEmpty() == True:\n",
    "            return None\n",
    "        return self.stack[self.top]\n",
    "\n",
    "\n",
    "## 전역 변수 선언 부분 ##\n",
    "SIZE = 10\n",
    "stack = HenzelStack(SIZE)\n",
    "\n",
    "## 메인 코드 부분 ##\n",
    "if __name__ == \"__main__\":\n",
    "\n",
    "    stoneAry = [\"빨강\", \"파랑\", \"초록\", \"노랑\", \"보라\", \"주황\"]\n",
    "    random.shuffle(stoneAry)\n",
    "\n",
    "    print(\"과자집에 가는 길 : \", end='')\n",
    "    for stone in stoneAry:\n",
    "        stack.push(stone)\n",
    "        print(stone, '-->', end='')\n",
    "    print(\"과자집 도착\")\n",
    "\n",
    "    print(\"집으로 돌아가는 길 : \", end='')\n",
    "    while True:\n",
    "        stone = stack.pop()\n",
    "        if stone == None:\n",
    "            break\n",
    "        print(stone, '-->', end='')\n",
    "    print(\"집 도착\")\n"
   ]
  },
  {
   "cell_type": "markdown",
   "metadata": {},
   "source": [
    "## 응용예제 02\n",
    "\n",
    "텍스트 파일에서 전체 줄을 거꾸로 하고, 각 줄의 글자도 거꾸로 출력하는 프로그램을 작성한다."
   ]
  },
  {
   "cell_type": "code",
   "execution_count": 60,
   "metadata": {},
   "outputs": [
    {
     "name": "stdout",
     "output_type": "stream",
     "text": [
      ".다리오리드내보 이고 이없말는에때 실가워겨역 가기보 나꽃래달진NoneNoneNoneNoneNoneNoneNoneNoneNoneNoneNoneNoneNoneNoneNoneNoneNoneNoneNoneNoneNoneNoneNoneNoneNoneNoneNoneNoneNoneNoneNoneNoneNoneNoneNoneNoneNoneNoneNoneNoneNoneNoneNoneNoneNoneNoneNoneNoneNoneNoneNoneNoneNoneNoneNoneNoneNoneNoneNoneNoneNoneNoneNoneNoneNoneNone\n"
     ]
    }
   ],
   "source": [
    "## 전역 변수 선언 부분 ##\n",
    "SIZE = 100\n",
    "stack = HenzelStack(SIZE)\n",
    "\n",
    "## 메인 코드 부분 ##\n",
    "if __name__ == \"__main__\":\n",
    "\n",
    "    sentenceAry = [\"진달래꽃\", \"나 보기가 역겨워\", \"가실 때에는\", \"말없이 고이 보내드리오리다.\"]\n",
    "    for sentence in sentenceAry:\n",
    "        # SIZE = len(sentence)\n",
    "        # stack = HenzelStack(SIZE)\n",
    "        for ch in sentence:\n",
    "            stack.push(ch)\n",
    "            \n",
    "    for _ in range(len(stack.stack)):\n",
    "        print(stack.pop(), end='')\n",
    "    print()"
   ]
  },
  {
   "cell_type": "code",
   "execution_count": null,
   "metadata": {},
   "outputs": [],
   "source": []
  }
 ],
 "metadata": {
  "kernelspec": {
   "display_name": "base",
   "language": "python",
   "name": "python3"
  },
  "language_info": {
   "codemirror_mode": {
    "name": "ipython",
    "version": 3
   },
   "file_extension": ".py",
   "mimetype": "text/x-python",
   "name": "python",
   "nbconvert_exporter": "python",
   "pygments_lexer": "ipython3",
   "version": "3.11.9"
  }
 },
 "nbformat": 4,
 "nbformat_minor": 2
}
