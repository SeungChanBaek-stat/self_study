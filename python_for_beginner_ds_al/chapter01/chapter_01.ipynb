{
 "cells": [
  {
   "cell_type": "markdown",
   "metadata": {},
   "source": [
    "# Chapter 01 자료구조와 알고리즘 소개"
   ]
  },
  {
   "cell_type": "markdown",
   "metadata": {},
   "source": [
    "## Section 00 생활 속 자료구조와 알고리즘\n",
    "자료구조 : 자료를 효율적으로 관리하는 방법\n",
    "\n",
    "알고리즘 : 최적의 이동 경로 찾는 방법"
   ]
  },
  {
   "cell_type": "markdown",
   "metadata": {},
   "source": [
    "## Section 01 자료구조의 개념과 종류\n",
    "\n",
    "### 1 자료구조의 개념"
   ]
  },
  {
   "cell_type": "markdown",
   "metadata": {},
   "source": [
    "자료구조(Data Structure) : '컴퓨터 프로그래밍 언어에서 효율적인 자료(데이터)의 형태'"
   ]
  },
  {
   "cell_type": "markdown",
   "metadata": {},
   "source": [
    "### 2 자료구조의 종류\n",
    "\n",
    "자료구조는 크게 네 가지 정도로 분류할 수 있다.\n",
    " - 데이터형 자료구조 : 정수, 실수, 문자, 문자열\n",
    " - 선형 자료구조 : 리스트, 스택, 큐\n",
    " - 비선형 자료구조 : 트리, 그래프\n",
    " - 파일 자료구조 : 순차 파일, 색인 파일, 직접 파일"
   ]
  },
  {
   "cell_type": "markdown",
   "metadata": {},
   "source": [
    "$\\textbf{단순 자료구조}$\n",
    "\n",
    "단순 자료구조(Simple Data Structure)는 일반적인 프로그래밍 언어의 데이터 형식들이다.\n",
    "\n",
    "정수는 주로 int또는 integer 형태로 소수점이 없다. "
   ]
  },
  {
   "cell_type": "code",
   "execution_count": 1,
   "metadata": {},
   "outputs": [
    {
     "data": {
      "text/plain": [
       "(0, 100, 1234, -27)"
      ]
     },
     "execution_count": 1,
     "metadata": {},
     "output_type": "execute_result"
    }
   ],
   "source": [
    "0, 100, 1234, -27"
   ]
  },
  {
   "cell_type": "markdown",
   "metadata": {},
   "source": [
    "실수는 소수점이 있는 형태로 float 등으로 표현한다."
   ]
  },
  {
   "cell_type": "code",
   "execution_count": 2,
   "metadata": {},
   "outputs": [
    {
     "data": {
      "text/plain": [
       "(0.1, 3.14, 1.234567)"
      ]
     },
     "execution_count": 2,
     "metadata": {},
     "output_type": "execute_result"
    }
   ],
   "source": [
    "0.1, 3.14, 1.234567"
   ]
  },
  {
   "cell_type": "markdown",
   "metadata": {},
   "source": [
    "문자는 한 글자를 의미하며, char로 표현한다. 주로 작은 따옴표로 묶어 준다."
   ]
  },
  {
   "cell_type": "code",
   "execution_count": 3,
   "metadata": {},
   "outputs": [
    {
     "data": {
      "text/plain": [
       "('A', '채', '3')"
      ]
     },
     "execution_count": 3,
     "metadata": {},
     "output_type": "execute_result"
    }
   ],
   "source": [
    "'A', '채', '3'"
   ]
  },
  {
   "cell_type": "markdown",
   "metadata": {},
   "source": [
    "문자열은 글자 여러 개를 연결한 것으로, string으로 표현한다. 주로 큰따옴표로 묶어 준다."
   ]
  },
  {
   "cell_type": "code",
   "execution_count": 4,
   "metadata": {},
   "outputs": [
    {
     "data": {
      "text/plain": [
       "('안녕', '1234', '한')"
      ]
     },
     "execution_count": 4,
     "metadata": {},
     "output_type": "execute_result"
    }
   ],
   "source": [
    "\"안녕\", \"1234\", \"한\""
   ]
  },
  {
   "cell_type": "markdown",
   "metadata": {},
   "source": [
    "$\\textbf{선형 자료구조}$\n",
    "\n",
    "선형 자료구조(Linear Data Structure)는 데이터를 한 줄로 순차적으로 표현한 형태이다.\n",
    "\n",
    "선형 자료구조에는 선형 리스트, 연결 리스트, 스택, 큐 등이 대표적이다."
   ]
  },
  {
   "cell_type": "markdown",
   "metadata": {},
   "source": [
    "$\\textbf{비선형 자료구조}$\n",
    "\n",
    "비선형 자료구조(Nonlinear Data Structure)는 하나의 데이터 뒤에 여러 개가 이어지는 형태이다.\n",
    "\n",
    "비선형 자료구조에는 트리와 그래프가 대표적이다."
   ]
  },
  {
   "cell_type": "markdown",
   "metadata": {},
   "source": [
    "$\\textbf{파일 자료구조}$\n",
    "\n",
    "파일 자료구조(File Data Structure)는 파일 내용이 디스크에 저장되는 방식으로 구분한다.\n",
    "\n",
    "순차파일(Sequential File)은 파일 내용을 논리적인 처리 순서에 따라 연속해서 저장하는 것을 의미한다. 즉, 입력되는 순서대로 저장된다고 보면 된다. 구조가 간단하기에 저장되는 공간 효율이 높지만, 다른 내용을 추가하거나 삭제할 경우에는 파일 내용을 재구성해야 하므로 상당히 시간이 오래 걸린다.\n",
    "\n",
    "직접 파일(Direct File)은 파일 내용을 임의의 물리적 위치에 기록하는 방식을 사용하고 직접 접근 방식(Direct Access Method)라고도 한다. 내용을 저장하는 위치를 해시 함수(Hash Function)라는 계산식으로 결정한다.\n",
    "\n",
    "이외에 순차 파일과 직접 파일이 결합된 색인 순차 파일(Indexed Sequential File)형태도 있다."
   ]
  },
  {
   "cell_type": "markdown",
   "metadata": {},
   "source": [
    "## Section 02 알고리즘\n",
    "\n",
    "### 1 알고리즘 개념과 자료구조의 관계"
   ]
  },
  {
   "cell_type": "markdown",
   "metadata": {},
   "source": [
    "알고리즘(Algorithm)이란 '어떤 문제를 해결해 가는 논리적인 과정'으로 정의할 수 있다.\n",
    "\n",
    "학술적인 의미에서 자료구조와 알고리즘을 정의하면 다음과 같다. 자료구조란 컴퓨터 분야에서 효율적으로 접근하고 수정할 수 있도록 자료를 구성,관리,저장하는 것을 말한다. 알고리즘이란 컴퓨터 분야나 수학 등 관련 분야에서 어떤 문제를 해결하기 위해 정해진 일련의 단계적인 절차나 방법을 공식화한 형태로 표현한 것을 의미한다."
   ]
  },
  {
   "cell_type": "markdown",
   "metadata": {},
   "source": [
    "## 2 알고리즘 표현법\n",
    "\n",
    "$\\textbf{일반 언어 표현}$\n",
    "\n",
    "일반적인 자연어를 사용해서 설명하듯이 알고리즘을 표현할 수 있다. 일반 사람이 이해하기 쉽게 표현할 수 있으나, 최종적으로 코드로 변경하는 데는 한계가 있다. 구체적인 아이디어가 떠오르지 않을 때, 생각 범위를 넓히는 단계 정도에서 사용하면 무난하다.\n",
    "\n",
    "$\\textbf{순서도를 이용한 표현}$\n",
    "순서도(Flowchart)는 여러 종류의 상자와 상자를 이어 주는 화살표를 이용해서 명령 순서를 표현하는 방식이다. 즉, 알고리즘을 순서도로 표현할 수 있다.\n",
    "\n",
    "$\\textbf{의사코드를 이용한 표현}$\n",
    "의사코드(Pseudo Code)는 프로그래밍 언어보다는 좀 더 인간의 언어에 가까운 형태이다. 프로그램 코드와 일반 언어의 중간 형태라고 보면 된다. 의사코드를 사용하면 프로그램 코드를 직접 코딩하는 것보다 알고리즘을 좀 더 명확하게 정립하는 데 도움이 된다. 또 코드에 설명을 달지 않아도 이해하는 데 무리 없다.\n",
    "\n",
    ":레이블 1\n",
    "\n",
    "animal $\\leftarrow$ get animal\n",
    "\n",
    "`IF` 트럭에 태울 수 있으면 `THEN`\n",
    "\n",
    "Put on a truck $\\leftarrow$ animal\n",
    "    \n",
    "`ELSE`\n",
    "\n",
    "   Put in the fence $\\leftarrow$ animal\n",
    "\n",
    "`IF` 아직 태워 볼 동물이 남았으면 `THEN`\n",
    " \n",
    "    `GOTO` 레이블1\n",
    "`ELSE`\n",
    "  \n",
    "    finish program\n",
    "`ENDIF`\n",
    "\n"
   ]
  },
  {
   "cell_type": "markdown",
   "metadata": {},
   "source": [
    "$\\textbf{프로그램 코드로 표현}$"
   ]
  },
  {
   "cell_type": "markdown",
   "metadata": {},
   "source": [
    "```python\n",
    "def main():\n",
    "    while True:\n",
    "        animal = getAnimal()\n",
    "        if truck_weight + animal.weight <= 7:\n",
    "            truck[put_count] = animal\n",
    "            put_count += 1\n",
    "        else:\n",
    "            fence[wait_count] = animal\n",
    "            wait_count += 1\n",
    "\n",
    "        if getAnimal() != None:\n",
    "            continue\n",
    "        else:\n",
    "            exit()\n",
    "\n",
    "    return\n",
    "```"
   ]
  },
  {
   "cell_type": "markdown",
   "metadata": {},
   "source": [
    "$\\textbf{혼합 형태}$\n",
    "\n",
    "간단한 알고리즘은 직접 코드로 작성한다. 복잡한 알고리즘은 일반 언어, 의사코드, 순서도, 그림등을 종합적으로 활용해서 표현할 수 있다."
   ]
  },
  {
   "cell_type": "markdown",
   "metadata": {},
   "source": [
    "### 3 알고리즘의 성능\n",
    "\n",
    "$\\textbf{알고리즘의 성능 측정}$\n",
    "\n",
    "한 가지 문제도 주어진 상황에 따라 수십 가지의 알고리즘으로 해결할 수 있다. 어떤 알고리즘은 몇 초 만에 해결하기도 하고, 어떤 알고리즘은 몇 시간 또는 수십 시간이 걸리기도 한다. 시간 복잡도(Time Complexity)를 통해 이러한 알고리즘의 성능을 분석 및 비교 가능하다."
   ]
  },
  {
   "cell_type": "markdown",
   "metadata": {},
   "source": [
    "$\\textbf{알고리즘 성능 표기}$\n",
    "\n",
    "알고리즘 성능은 다양한 표기법으로 비교할 수 있는데 가장 많이 사용하는 것은 빅-오 표기법(Big -O Notation)으로 $O(f(n))$형태로 표기한다.\n",
    "\n",
    "빅-오 표기법에서는 가장 높은 항만 표기하고 계수는 생략한다. 예로 $(5n^{2} + n + 100)$은 빅-오 표기법으로 $O(n^{2})$으로만 표현한다. 빅-오 표기법은 정확한 연산 횟수를 위한 것이 아니라, 대략적인 시간 측정을 위한 것으로 생각하면 된다.\n",
    "\n",
    "알고리즘 시간을 측정하는 빅-오 표기법의 대표적인 함수는 $O(1), O(\\log n), O(n), O(n \\log n), O(n^{2}), O(n^{3}), O(2^{n})$ 정도가 있다."
   ]
  },
  {
   "cell_type": "markdown",
   "metadata": {},
   "source": [
    "성능이 좋지 않은 알고리즘일수록 데이터 개수에 따른 연산이 가파르게 증가한다. 따라서 우리는 자료구조와 효율적인 알고리즘을 공부해야 하는 것이다."
   ]
  },
  {
   "cell_type": "markdown",
   "metadata": {},
   "source": [
    "$\\textbf{자료구조와 알고리즘과 프로그램의 관계}$\n",
    "\n",
    "자료구조를 자동차 부품이라고 하면 자동차를 조립하는 방법은 알고리즘으로 볼 수 있다. 이 알고리즘으로 실제 자동차 조립은 프로그래밍 언어를 사용해서 진행한다. 마지막으로 완성된 자동차는 소프트웨어(프로그램)으로 생각하면 된다. 이 책의 목표와 내용은 자료구조와 알고리즘을 익히고 파이썬 프로그래밍 언어를 통해 최종적인 소프트웨어를 완성하는 과정을 배우는 것이다."
   ]
  },
  {
   "cell_type": "markdown",
   "metadata": {},
   "source": []
  }
 ],
 "metadata": {
  "kernelspec": {
   "display_name": "base",
   "language": "python",
   "name": "python3"
  },
  "language_info": {
   "codemirror_mode": {
    "name": "ipython",
    "version": 3
   },
   "file_extension": ".py",
   "mimetype": "text/x-python",
   "name": "python",
   "nbconvert_exporter": "python",
   "pygments_lexer": "ipython3",
   "version": "3.11.9"
  }
 },
 "nbformat": 4,
 "nbformat_minor": 2
}
