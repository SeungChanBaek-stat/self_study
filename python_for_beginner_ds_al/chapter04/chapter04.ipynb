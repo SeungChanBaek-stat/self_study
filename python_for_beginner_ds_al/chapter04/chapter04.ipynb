{
 "cells": [
  {
   "cell_type": "markdown",
   "metadata": {},
   "source": [
    "# Chapter 04 단순 연결 리스트"
   ]
  },
  {
   "cell_type": "markdown",
   "metadata": {},
   "source": [
    "## Section 00 생활 속 자료구조와 알고리즘\n",
    "맛집 여행을 떠날 때, 방문할 맛집의 순서는 이미 마음속에 결정되어 있다. 방문 순서를 차례대로 두면 3장에서 배운 선형 리스트가 된다.\n",
    "\n",
    "그런데 실제로 방문할 식당을 지도상에 표현하면 붙어있지 않다. 그래서 방문할 식당을 지도에 순서대로 연결하면, 실제로 식당 위치는 다르지만 방문할 순서대로 연결이 된다.\n",
    "\n",
    "이것이 단순 연결 리스트의 형태이다."
   ]
  },
  {
   "cell_type": "markdown",
   "metadata": {},
   "source": [
    "## Section 01 단순 연결 리스트의 기본\n",
    "\n",
    "### 1. 단순 연결 리스트의 개념\n",
    "\n",
    "3장에서 배운 선형 리스트는 배열에 데이터를 차례대로 저장하므로 데이터의 실제 위치 순서로 구성된다. 이때 데이터는 물리적인 순서대로 저장되며 각 위치도 해당 데이터 크기만큼 증가한다.\n",
    "\n",
    "이런 물리적인 순서는 카톡이 많이 온 친구의 논리적인 순서와 구조가 동일하다.\n",
    "\n",
    "반면 단순 연결 리스트(Singly Linked List) 에서는 저장된 노드들이 물리적으로 떨어진 곳에 위치한다. 각 노드의 위치도 순차적이지 않다. 하지만 화살표로 표시된 연결(링크, Link)을 따라가 보면 노드는 다음 노드를 순차적으로 가리키면서 결국 선형 리스트 순서와 같게 된다."
   ]
  },
  {
   "cell_type": "markdown",
   "metadata": {},
   "source": [
    "선형 리스트는 단순하고, 물리적인 순서와 논리적인 순서가 동일하여 데이터를 찾기 간단하다는 장점이 있다. 또한 프로그램으로 구현하기도 비교적 쉽다. 하지만 데이터를 삽입하거나 삭제할 때는 많은 작업이 필요하다."
   ]
  },
  {
   "cell_type": "markdown",
   "metadata": {},
   "source": [
    "새로운 데이터를 특정 위치에 삽입할 때는 그 이전 위치에 해당하는 데이터들을 모두 한 칸씩 뒤로 미룬 후 데이터를 삽입해야 한다.\n",
    "\n",
    "데이터를 삭제할 때도 삭제한 데이터 위치를 메우려면 뒤쪽 데이터를 모두 한 칸씩 앞으로 이동시키는 작업이 필요하다.\n",
    "\n",
    "데이터가 100만 개인 선형 리스트의 맨 앞에 데이터 하나를 삽입하려고 약 100만 개를 뒤로 이동시키는 작업을 해야하는 것이다.\n",
    "\n",
    "이렇게 과하게 발생하는 작업을 오버헤드(Overhead)라고 한다. 데이터를 삭제시킬 때도 삭제 위치를 메우려면 데이터를 한 칸씩 앞으로 이동해야 하므로 오버헤드가 발생한다."
   ]
  },
  {
   "cell_type": "markdown",
   "metadata": {},
   "source": [
    "반면에 데이터가 100만 개인 단순 연결 리스트의 두 번째 위치에 데이터를 삽입하는 과정은 다르다.\n",
    "\n",
    "새로운 데이터가 담긴 노드를 임의 위치에 준비한 후 해당 노드의 앞뒤 링크만 수정하면 기존 노드는 변경 없이 그대로 유지된다. 즉, 오버헤드가 거의 발생하지 않는다."
   ]
  },
  {
   "cell_type": "markdown",
   "metadata": {},
   "source": [
    "### 2. 단순 연결 리스트의 원리\n",
    "\n",
    "단순 연결 리스트를 구현하려면 우선 '노드' 개념을 파악해야 한다.\n",
    "\n",
    "$\\textbf{노드 구조}$\n",
    "\n",
    "선형 리스트는 배열에 순서대로 저장되기 때문에 데이터만 있으면 된다. 반면 단순 연결 리스트는 다음 데이터를 가리키는 링크(Link)가 더 필요하다. 이렇게 데이터와 링크로 구성된 항목을 노드(Node)라고 한다. 마지막 노드임을 표시할 때는 해당 노드의 링크에 빈 값을 넣는다. 첫 번째 노드를 가리키는 헤드(head)도 있다. 단순 연결 리스트가 한쪽 방향으로만 진행되어 다음 노드로는 찾아갈 수 있지만 이전 노드로는 돌아갈 수 없는데, 헤드를 이용하면 처음부터 다시 진행 가능하다.\n",
    "\n",
    "$\\textbf{노드(데이터) 삽입}$\n",
    "\n",
    "단순 연결 리스트에 데이터를 삽입하는 과정을 알아본다. 새로운 노드를 삽입한다면 1단계에서 삽입할 새로운 노드를 생성한 후 2단계에서 순서에 맞게 링크를 수정한다. 즉, 이전 노드의 링크를 새로운 노드에 이어주고 새로운 노드의 링크를 다음 노드에 이어준다.\n",
    "\n",
    "$\\textbf{노드(데이터) 삭제}$\n",
    "\n",
    "노드 삭제는 간단하다. 삭제할 노드의 이전 노드의 링크를 삭제할 노드의 다음 노드로 이어주기만 하면 된다. 이후에는 해당 노드를 삭제한다."
   ]
  },
  {
   "cell_type": "markdown",
   "metadata": {},
   "source": [
    "## Section 02 단순 연결 리스트의 간단 구현\n",
    "\n",
    "### 1. 노드 생성과 연결\n",
    "\n",
    "단순 연결 리스트를 구현하려면 먼저 노드를 구현해야 한다. 노드는 파이썬 문법 중 클래스(class)를 사용해서 구현할 수 있다.\n",
    "\n",
    "$\\textbf{노드 생성}$"
   ]
  },
  {
   "cell_type": "code",
   "execution_count": 1,
   "metadata": {},
   "outputs": [],
   "source": [
    "class Node():\n",
    "    def __init__(self):\n",
    "        self.data = None\n",
    "        self.link = None"
   ]
  },
  {
   "cell_type": "code",
   "execution_count": 4,
   "metadata": {},
   "outputs": [
    {
     "name": "stdout",
     "output_type": "stream",
     "text": [
      "다현 "
     ]
    }
   ],
   "source": [
    "node1 = Node()\n",
    "node1.data = \"다현\"\n",
    "print(node1.data, end = \" \")"
   ]
  },
  {
   "cell_type": "markdown",
   "metadata": {},
   "source": [
    "$\\textbf{노드 연결}$\n",
    "\n",
    "두 번째 정연 노드를 생성하고, 정연 노드를 첫 번째 노드의 링크로 연결하는 코드는 다음과 같다."
   ]
  },
  {
   "cell_type": "code",
   "execution_count": 7,
   "metadata": {},
   "outputs": [
    {
     "name": "stdout",
     "output_type": "stream",
     "text": [
      "정연\n",
      "<__main__.Node object at 0x000002A4522D2DD0>\n"
     ]
    }
   ],
   "source": [
    "node2 = Node()\n",
    "node2.data = \"정연\"\n",
    "\n",
    "node1.link = node2\n",
    "\n",
    "print(node2.data)\n",
    "print(node1.link)"
   ]
  },
  {
   "cell_type": "markdown",
   "metadata": {},
   "source": [
    "두 번째 노드를 생성한 후 첫 번째 노드의 링크에 두 번째 노드 이름을 넣어 주면 두 노드가 단순 연결 리스트로 연결되는 것이다. 이런 방식으로 나머지 노드들을 추가로 생성하고 연결할 수 있다."
   ]
  },
  {
   "cell_type": "markdown",
   "metadata": {},
   "source": [
    "### 2. 데이터가 5개인 단순 연결 리스트 생성"
   ]
  },
  {
   "cell_type": "code",
   "execution_count": null,
   "metadata": {},
   "outputs": [
    {
     "name": "stdout",
     "output_type": "stream",
     "text": [
      "다현 정연 쯔위 사나 지효 "
     ]
    }
   ],
   "source": [
    "class Node():\n",
    "    def __init__(self):\n",
    "        self.data = None\n",
    "        self.link = None\n",
    "\n",
    "node1 = Node()\n",
    "node1.data = \"다현\"\n",
    "\n",
    "node2 = Node()\n",
    "node2.data = \"정연\"\n",
    "node1.link = node2\n",
    "\n",
    "node3 = Node()\n",
    "node3.data = \"쯔위\"\n",
    "node2.link = node3\n",
    "\n",
    "node4 = Node()\n",
    "node4.data = \"사나\"\n",
    "node3.link = node4\n",
    "\n",
    "node5 = Node()\n",
    "node5.data = \"지효\"\n",
    "node4.link = node5\n",
    "\n",
    "print(node1.data, end = \" \")\n",
    "print(node1.link.data, end = \" \")\n",
    "print(node1.link.link.data, end = \" \")\n",
    "print(node1.link.link.link.data, end = \" \")\n",
    "print(node1.link.link.link.link.data, end = \" \")\n"
   ]
  },
  {
   "cell_type": "code",
   "execution_count": 10,
   "metadata": {},
   "outputs": [
    {
     "name": "stdout",
     "output_type": "stream",
     "text": [
      "다현 정연 쯔위 사나 지효 "
     ]
    }
   ],
   "source": [
    "current = node1\n",
    "print(current.data, end = \" \")\n",
    "while current.link != None:\n",
    "    current = current.link\n",
    "    print(current.data, end = \" \")"
   ]
  },
  {
   "cell_type": "markdown",
   "metadata": {},
   "source": [
    "### 3. 노드 삽입"
   ]
  },
  {
   "cell_type": "code",
   "execution_count": 11,
   "metadata": {},
   "outputs": [
    {
     "name": "stdout",
     "output_type": "stream",
     "text": [
      "다현 정연 재남 쯔위 사나 지효 "
     ]
    }
   ],
   "source": [
    "newNode = Node()\n",
    "newNode.data = \"재남\"\n",
    "\n",
    "newNode.link = node2.link\n",
    "node2.link = newNode\n",
    "\n",
    "current = node1\n",
    "print(current.data, end = \" \")\n",
    "while current.link != None:\n",
    "    current = current.link\n",
    "    print(current.data, end = \" \")"
   ]
  },
  {
   "cell_type": "markdown",
   "metadata": {},
   "source": [
    "### 4. 노드 삭제"
   ]
  },
  {
   "cell_type": "code",
   "execution_count": 13,
   "metadata": {},
   "outputs": [
    {
     "name": "stdout",
     "output_type": "stream",
     "text": [
      "다현 정연 사나 지효 "
     ]
    }
   ],
   "source": [
    "node1 = Node()\n",
    "node1.data = \"다현\"\n",
    "\n",
    "node2 = Node()\n",
    "node2.data = \"정연\"\n",
    "node1.link = node2\n",
    "\n",
    "node3 = Node()\n",
    "node3.data = \"쯔위\"\n",
    "node2.link = node3\n",
    "\n",
    "node4 = Node()\n",
    "node4.data = \"사나\"\n",
    "node3.link = node4\n",
    "\n",
    "node5 = Node()\n",
    "node5.data = \"지효\"\n",
    "node4.link = node5\n",
    "\n",
    "\n",
    "node2.link = node3.link\n",
    "del node3\n",
    "\n",
    "current = node1\n",
    "print(current.data, end = \" \")\n",
    "while current.link != None:\n",
    "    current = current.link\n",
    "    print(current.data, end = \" \")"
   ]
  },
  {
   "cell_type": "markdown",
   "metadata": {},
   "source": [
    "## Section 03 단순 연결 리스트의 일반 구현\n",
    "\n",
    "### 1. 단순 연결 리스트의 일반 형태\n",
    "\n",
    "단순 연결 리스트의 일반 형태는 다음과 같이 구현한다.\n",
    "1. 생성되는 모든 노드를 메모리 공간에 넣어 둔다.\n",
    "2. 노드의 순서는 상관없이 링크로만 각 노드가 연결된다.\n",
    "3. 변수 3개를 추가한다 : 헤드(head), 첫번째 노드. 현재(current), 지금 처리 중인 노드. 이전(pre), 현재 처리 중인 노드의 바로 이전 노드.\n",
    "\n",
    "```python\n",
    "memory = []\n",
    "head, current, pre = None, None, None\n",
    "```"
   ]
  },
  {
   "cell_type": "markdown",
   "metadata": {},
   "source": [
    "### 2. 배열에 저장된 데이터 입력 과정\n",
    "\n",
    "사용자가 입력하거나 배열에서 데이터를 추출한 후 값을 계속 단순 연결 리스트로 만드는 코드를 작성해 본다. 작동 순서는 첫 번째 데이터와 두 번째 이후 데이터로 나누어 생각해 볼 수 있다."
   ]
  },
  {
   "cell_type": "markdown",
   "metadata": {},
   "source": [
    "$\\textbf{데이터 입력 과정}$\n",
    "\n",
    "먼저 첫 번째 데이터는 빈 노드를 생성하고, 사용자가 키보드로 첫 번째 데이터를 입력하거나 데이터 저장소에서 데이터를 가져와서 대입한다. 완성된 노드를 메모리 공간에 넣는다. 이런 방식은 node1, node2처럼 변수 이름을 여러 개 사용하지 않아도 되며, 모든 노드는 head를 시작으로 연결된다. 그리고 사용자가 원하는 만큼 데이터를 입력할 수 있다."
   ]
  },
  {
   "cell_type": "markdown",
   "metadata": {},
   "source": [
    "```python\n",
    "node = Node()\n",
    "node.data = dataArray[0]\n",
    "head = node\n",
    "memory.append(node)\n",
    "```"
   ]
  },
  {
   "cell_type": "markdown",
   "metadata": {},
   "source": [
    "두 번째 이후 데이터는 새 노드를 기존 노드의 링크에 저장하기 전에 기존 노드를 잠시 저장한 후 생성해야 한다.\n",
    "\n",
    "```python\n",
    "pre = node\n",
    "node = Node()\n",
    "node.data = data    # 두 번째 이후 노드\n",
    "preNode.link = node\n",
    "memory.append(node)\n",
    "```"
   ]
  },
  {
   "cell_type": "markdown",
   "metadata": {},
   "source": [
    "$\\textbf{일반 단순 연결 리스트의 생성 함수 완성}$\n",
    "\n",
    "chapter04/SimpleLinkedList_1.py 참조"
   ]
  },
  {
   "cell_type": "markdown",
   "metadata": {},
   "source": [
    "### 3. 노드 삽입\n",
    "\n",
    "완성된 단순 연결 리스트에 노드를 삽입하는 방식을 구현해본다. 노드를 단순 연결 리스트의 맨앞, 중간, 마지막에 삽입하는 경우로 나누어 생각해 볼 수 있다. 앞서 생성한 단순 연결 시르트에 노드를 삽입하는데, 각 경우를 단계별로 살펴본다."
   ]
  },
  {
   "cell_type": "markdown",
   "metadata": {},
   "source": [
    "$\\textbf{첫 번째 노드 삽입}$\n",
    "\n",
    "1. 새 노드 생성\n",
    "2. 새 노드의 링크로 헤드(head)노드가 가리키는 노드 지정\n",
    "3. 헤드 노드를 새 노드로 지정\n",
    "\n",
    "```python\n",
    "node = Node()\n",
    "node.data = \"화사\"\n",
    "node.link = head\n",
    "head = node\n",
    "```\n",
    "\n",
    "$\\textbf{중간 노드 삽입}$\n",
    "중간 노드인 사나 노드 이전에 솔라 노드를 삽입하는 과정\n",
    "\n",
    "1. 헤드(head)에서 시작해서 현재(current)노드가 사나인지 확인\n",
    "2. 현재 노드를 이전(pre)노드로 지정하고, 현재 노드를 다음 노드로 이동. 그리고 현재 노드가 사나인지 확인\n",
    "3. 현재 노드가 사나가 될 때가지 2단계 반복\n",
    "4. 현재 노드가 사라이면 우선 새 노드(솔라 노드)를 생성한 후 새 노드의 링크를 현재 노드로 지정.\n",
    "5. 이전 노드의 링크를 새 노드로 지정.\n",
    "\n",
    "```python\n",
    "current = head\n",
    "while 마지막 노드까지 :\n",
    "    pre = current\n",
    "    current = current.link\n",
    "    if current.data == \"사나\":\n",
    "        node = Node()\n",
    "        node.data = \"솔라\"\n",
    "        node.link = current\n",
    "        pre.link = node\n",
    "```\n",
    "\n",
    "$\\textbf{마지막 노드 삽입}$\n",
    "\n",
    "문별 노드를 마지막 노드로 삽입하는 과정\n",
    "1. 헤드(head)에서 시작해서 현재(current)노드가 재남인지 확인\n",
    "2. 현재 노드를 이전(pre)노드로 지정하고, 현재 노드를 다음 노드로 이동. 그리고 현재 노드가 재남인지 확인\n",
    "3. 현재 노드가 재남이 될 때가지 2단계 반복\n",
    "4. 마지막 노드까지 재남을 찾지 못했다면 새 노드(문별 노드)를 생성한 후 현재(current) 노드의 링크를 새 노드로 지정\n",
    "\n",
    "```python\n",
    "current = head\n",
    "while 마지막 노드까지 :\n",
    "    pre = current\n",
    "    current = current.link\n",
    "\n",
    "node = Node()\n",
    "node.data = \"문별\"\n",
    "current.link = node\n",
    "```"
   ]
  },
  {
   "cell_type": "markdown",
   "metadata": {},
   "source": [
    "$\\textbf{노드 삽입 함수의 완성}$\n",
    "\n",
    "세 가지 경우의 "
   ]
  }
 ],
 "metadata": {
  "kernelspec": {
   "display_name": "base",
   "language": "python",
   "name": "python3"
  },
  "language_info": {
   "codemirror_mode": {
    "name": "ipython",
    "version": 3
   },
   "file_extension": ".py",
   "mimetype": "text/x-python",
   "name": "python",
   "nbconvert_exporter": "python",
   "pygments_lexer": "ipython3",
   "version": "3.11.9"
  }
 },
 "nbformat": 4,
 "nbformat_minor": 2
}
