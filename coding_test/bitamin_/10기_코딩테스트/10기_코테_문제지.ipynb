{
 "cells": [
  {
   "cell_type": "markdown",
   "id": "fddd1782-2727-4e6c-868f-c952d31aed6a",
   "metadata": {
    "id": "fddd1782-2727-4e6c-868f-c952d31aed6a"
   },
   "source": [
    "## **아래 코드를 실행시키고 문제에 답하시오.**"
   ]
  },
  {
   "cell_type": "code",
   "execution_count": 1,
   "id": "481a3feb",
   "metadata": {
    "id": "481a3feb"
   },
   "outputs": [],
   "source": [
    "import pandas as pd\n",
    "import numpy as np\n",
    "import seaborn as sns\n",
    "import matplotlib.pyplot as plt"
   ]
  },
  {
   "cell_type": "markdown",
   "id": "4864dd06",
   "metadata": {
    "id": "4864dd06"
   },
   "source": [
    "# 문제1 - 10점"
   ]
  },
  {
   "cell_type": "markdown",
   "id": "ec7b7542",
   "metadata": {
    "id": "ec7b7542"
   },
   "source": [
    "* 수학, 영어 점수의 평균을 구하고, 점수가 높은 순서대로 정렬한 후 결과값으로 **점수가 높은 5명의 점수를 출력**하세요.\n",
    "\n",
    "* 리스트 순서대로 학생 한 명의 점수입니다.\n",
    "* hint: for문 사용"
   ]
  },
  {
   "cell_type": "code",
   "execution_count": null,
   "id": "68877a16",
   "metadata": {
    "id": "68877a16"
   },
   "outputs": [],
   "source": []
  },
  {
   "cell_type": "markdown",
   "id": "387c6dd8",
   "metadata": {
    "id": "387c6dd8"
   },
   "source": [
    "# 문제2 -15점"
   ]
  },
  {
   "cell_type": "markdown",
   "id": "7f52ef8c",
   "metadata": {
    "id": "7f52ef8c"
   },
   "source": [
    "* 다음은 2022년 7월 26일 오후 2시 기준, 원화 환율입니다.\n",
    "  (미국:1309.70$, 유럽연합:1339.30€, 중국:193.84¥, 영국:1579.96£)\n",
    "* 환전하려는 금액을 입력 받고, 나라를 입력 받아서 환율을 **소수점 2자리**로 출력하세요.\n",
    "* Hint: 환전 금액과 나라 입력 시 input 함수를, 국가별 환율 계산에는 조건문을 사용하세요.\n",
    "\n",
    "<답안 예시>\n",
    "\n",
    "환전 금액(원화):8000\n",
    "\n",
    "국가 선택(미국/유럽연합/중국/영국):미국\n",
    "\n",
    "6.11\n"
   ]
  },
  {
   "cell_type": "code",
   "execution_count": 63,
   "id": "37f83cda",
   "metadata": {
    "id": "37f83cda"
   },
   "outputs": [
    {
     "name": "stdout",
     "output_type": "stream",
     "text": [
      "6.11\n"
     ]
    }
   ],
   "source": [
    "x = int(input(\"환전 금액(원화):\"))\n",
    "\n",
    "country = str(input(\"국가 선택(미국/유럽연합/중국/영국):\"))\n",
    "\n",
    "while country not in ([\"미국\", \"유럽연합\", \"중국\", \"영국\"]):\n",
    "    country = str(input(\"잘못입력하셨습니다. 다시 입력하세요 :\"))\n",
    "\n",
    "country_dict = {}\n",
    "country_dict['미국'] = 1309.70\n",
    "country_dict['유럽연합'] = 1339.30\n",
    "country_dict['중국'] = 193.84\n",
    "country_dict['영국'] = 1579.96\n",
    "\n",
    "currency = x / country_dict[country]\n",
    "\n",
    "print(f\"{currency:.2f}\")\n"
   ]
  },
  {
   "cell_type": "markdown",
   "id": "14a312ab",
   "metadata": {
    "id": "14a312ab"
   },
   "source": [
    "# 문제3 - 25점"
   ]
  },
  {
   "cell_type": "markdown",
   "id": "04a95cfb",
   "metadata": {
    "id": "04a95cfb"
   },
   "source": [
    "### 문제 [3-1] - 3점\n",
    "\n",
    "midwest.csv를 불러와 midwest에 저장하고, 위에서부터 10행까지 출력하시오."
   ]
  },
  {
   "cell_type": "code",
   "execution_count": 46,
   "id": "3856533a",
   "metadata": {
    "id": "3856533a"
   },
   "outputs": [
    {
     "name": "stdout",
     "output_type": "stream",
     "text": [
      "   PID     county state   area  poptotal   popdensity  popwhite  popblack  \\\n",
      "0  561      ADAMS    IL  0.052     66090  1270.961540     63917      1702   \n",
      "1  562  ALEXANDER    IL  0.014     10626   759.000000      7054      3496   \n",
      "2  563       BOND    IL  0.022     14991   681.409091     14477       429   \n",
      "3  564      BOONE    IL  0.017     30806  1812.117650     29344       127   \n",
      "4  565      BROWN    IL  0.018      5836   324.222222      5264       547   \n",
      "5  566     BUREAU    IL  0.050     35688   713.760000     35157        50   \n",
      "6  567    CALHOUN    IL  0.017      5322   313.058824      5298         1   \n",
      "7  568    CARROLL    IL  0.027     16805   622.407407     16519       111   \n",
      "8  569       CASS    IL  0.024     13437   559.875000     13384        16   \n",
      "9  570  CHAMPAIGN    IL  0.058    173025  2983.189660    146506     16559   \n",
      "\n",
      "   popamerindian  popasian  ...  percollege   percprof  poppovertyknown  \\\n",
      "0             98       249  ...   19.631392   4.355859            63628   \n",
      "1             19        48  ...   11.243308   2.870315            10529   \n",
      "2             35        16  ...   17.033819   4.488572            14235   \n",
      "3             46       150  ...   17.278954   4.197800            30337   \n",
      "4             14         5  ...   14.475999   3.367680             4815   \n",
      "5             65       195  ...   18.904624   3.275891            35107   \n",
      "6              8        15  ...   11.917388   3.209601             5241   \n",
      "7             30        61  ...   16.197121   3.055727            16455   \n",
      "8              8        23  ...   14.107649   3.206799            13081   \n",
      "9            331      8033  ...   41.295808  17.757448           154934   \n",
      "\n",
      "   percpovertyknown  percbelowpoverty  percchildbelowpovert  percadultpoverty  \\\n",
      "0         96.274777         13.151443             18.011717         11.009776   \n",
      "1         99.087145         32.244278             45.826514         27.385647   \n",
      "2         94.956974         12.068844             14.036061         10.852090   \n",
      "3         98.477569          7.209019             11.179536          5.536013   \n",
      "4         82.505140         13.520249             13.022889         11.143211   \n",
      "5         98.372002         10.399635             14.158819          8.179287   \n",
      "6         98.478016         15.149781             13.787761         12.932331   \n",
      "7         97.917287         11.710726             17.225462         10.027037   \n",
      "8         97.350599         13.875086             17.994784         11.914343   \n",
      "9         89.544286         15.572437             14.132234         17.562728   \n",
      "\n",
      "   percelderlypoverty  inmetro  category  \n",
      "0           12.443812        0       AAR  \n",
      "1           25.228976        0       LHR  \n",
      "2           12.697410        0       AAR  \n",
      "3            6.217047        1       ALU  \n",
      "4           19.200000        0       AAR  \n",
      "5           11.008586        0       AAR  \n",
      "6           21.085271        0       LAR  \n",
      "7            9.525052        0       AAR  \n",
      "8           13.660180        0       AAR  \n",
      "9            8.105017        1       HAU  \n",
      "\n",
      "[10 rows x 28 columns]\n"
     ]
    }
   ],
   "source": [
    "import sys, os\n",
    "sys.path.append(\"..\")\n",
    "\n",
    "midwest = pd.read_csv(\"midwest.csv\")\n",
    "print(midwest.head(10))"
   ]
  },
  {
   "cell_type": "markdown",
   "id": "fc0834cd",
   "metadata": {
    "id": "fc0834cd"
   },
   "source": [
    "### 문제 [3-2] - 7점\n",
    "\n",
    "* popwhite는 해당 지역의 아시아인 인구, poptotal은 해당 지역의 전체 인구를 나타냅니다.\n",
    "\n",
    "* midwest 데이터에 '전체 인구 대비 아시아인 인구 백분율' 변수인 percent 열을 추가하세요."
   ]
  },
  {
   "cell_type": "code",
   "execution_count": 47,
   "id": "96f60d4a",
   "metadata": {
    "id": "96f60d4a"
   },
   "outputs": [
    {
     "name": "stdout",
     "output_type": "stream",
     "text": [
      "0      96.712059\n",
      "1      66.384340\n",
      "2      96.571276\n",
      "3      95.254171\n",
      "4      90.198766\n",
      "         ...    \n",
      "432    97.899020\n",
      "433    99.112875\n",
      "434    98.498839\n",
      "435    97.507127\n",
      "436    98.032742\n",
      "Name: percent, Length: 437, dtype: float64\n"
     ]
    }
   ],
   "source": [
    "midwest['percent'] = midwest['popwhite'] / midwest['poptotal'] * 100\n",
    "\n",
    "print(midwest['percent'])"
   ]
  },
  {
   "cell_type": "markdown",
   "id": "f42cd8ce",
   "metadata": {
    "id": "f42cd8ce"
   },
   "source": [
    "### 문제 [3-3] - 3점\n",
    "\n",
    "* percent 열의 값을 내림차순으로 정렬하세요."
   ]
  },
  {
   "cell_type": "code",
   "execution_count": 48,
   "id": "01178afb",
   "metadata": {
    "id": "01178afb"
   },
   "outputs": [
    {
     "name": "stdout",
     "output_type": "stream",
     "text": [
      "85     99.822821\n",
      "358    99.756713\n",
      "84     99.746599\n",
      "73     99.742732\n",
      "389    99.717122\n",
      "         ...    \n",
      "76     66.888209\n",
      "1      66.384340\n",
      "15     62.779725\n",
      "275    57.395201\n",
      "404    10.694087\n",
      "Name: percent, Length: 437, dtype: float64\n"
     ]
    }
   ],
   "source": [
    "midwest = midwest.sort_values('percent', ascending=False)\n",
    "\n",
    "print(midwest['percent'])"
   ]
  },
  {
   "cell_type": "markdown",
   "id": "0112b6e0",
   "metadata": {
    "id": "0112b6e0"
   },
   "source": [
    "### 문제 [3-4] - 6점\n",
    "\n",
    "* percent를 아래의 분류 기준에 따라 새로운 변수를 추가해주시고, 각 분류에 해당하는 지역이 몇 개인지 확인해보시오.\n",
    "\n",
    "* large: 0.9% 이상 / middle: 0.4~0.9% 미만 / small: 0.4% 미만"
   ]
  },
  {
   "cell_type": "code",
   "execution_count": 51,
   "id": "3ede31ee",
   "metadata": {
    "id": "3ede31ee"
   },
   "outputs": [
    {
     "name": "stdout",
     "output_type": "stream",
     "text": [
      "percent_types\n",
      "large     388\n",
      "middle     48\n",
      "small       1\n",
      "Name: count, dtype: int64\n"
     ]
    }
   ],
   "source": [
    "midwest['percent_types'] = 'None'\n",
    "\n",
    "# print(midwest.head())\n",
    "\n",
    "midwest.loc[midwest['percent'] >= 90, 'percent_types'] = 'large'\n",
    "midwest.loc[(midwest['percent'] >= 40) & (midwest['percent'] < 90), 'percent_types'] = 'middle'\n",
    "midwest.loc[(midwest['percent'] < 40), 'percent_types'] = 'small'\n",
    "\n",
    "# print(midwest.head())\n",
    "print(midwest['percent_types'].value_counts())"
   ]
  },
  {
   "cell_type": "markdown",
   "id": "a354da3c",
   "metadata": {
    "id": "a354da3c"
   },
   "source": [
    "### 문제 [3-5] - 6점\n",
    "\n",
    "* county가 'SCOTT'인 경우와 county가 'PIATT'인 경우의 poptotal 열의 평균을 각각 구해서 출력하세요.\n",
    "\n",
    "* hint: query 함수와 mean 함수 사용"
   ]
  },
  {
   "cell_type": "code",
   "execution_count": 58,
   "id": "99111ed9",
   "metadata": {
    "id": "99111ed9"
   },
   "outputs": [
    {
     "name": "stdout",
     "output_type": "stream",
     "text": [
      "85      5644\n",
      "173    20991\n",
      "Name: poptotal, dtype: int64\n",
      "73    15548\n",
      "Name: poptotal, dtype: int64\n",
      "midwest_scott mean : 13317.5\n",
      "midwest_PIATT : 15548.0\n"
     ]
    }
   ],
   "source": [
    "# print(midwest.head())\n",
    "\n",
    "# print(midwest['county'].value_counts())\n",
    "midwest_scott = midwest.loc[midwest['county'] == 'SCOTT', 'poptotal']\n",
    "midwest_PIATT = midwest.loc[midwest['county'] == 'PIATT', 'poptotal']\n",
    "\n",
    "print(midwest_scott)\n",
    "print(midwest_PIATT)\n",
    "\n",
    "\n",
    "print(f\"midwest_scott mean : {np.mean(midwest_scott)}\")\n",
    "\n",
    "print(f\"midwest_PIATT : {np.mean(midwest_PIATT)}\")\n"
   ]
  },
  {
   "cell_type": "markdown",
   "id": "33735826",
   "metadata": {
    "id": "33735826"
   },
   "source": [
    "# 문제4 - 50점"
   ]
  },
  {
   "cell_type": "markdown",
   "id": "38491754",
   "metadata": {
    "id": "38491754"
   },
   "source": [
    "다음 데이터를 사용하여 각 문항에 답하세요."
   ]
  },
  {
   "cell_type": "code",
   "execution_count": 85,
   "id": "115046b9",
   "metadata": {
    "id": "115046b9"
   },
   "outputs": [
    {
     "data": {
      "text/html": [
       "<div>\n",
       "<style scoped>\n",
       "    .dataframe tbody tr th:only-of-type {\n",
       "        vertical-align: middle;\n",
       "    }\n",
       "\n",
       "    .dataframe tbody tr th {\n",
       "        vertical-align: top;\n",
       "    }\n",
       "\n",
       "    .dataframe thead th {\n",
       "        text-align: right;\n",
       "    }\n",
       "</style>\n",
       "<table border=\"1\" class=\"dataframe\">\n",
       "  <thead>\n",
       "    <tr style=\"text-align: right;\">\n",
       "      <th></th>\n",
       "      <th>survived</th>\n",
       "      <th>pclass</th>\n",
       "      <th>sex</th>\n",
       "      <th>age</th>\n",
       "      <th>sibsp</th>\n",
       "      <th>parch</th>\n",
       "      <th>fare</th>\n",
       "      <th>embarked</th>\n",
       "      <th>class</th>\n",
       "      <th>who</th>\n",
       "      <th>adult_male</th>\n",
       "      <th>deck</th>\n",
       "      <th>embark_town</th>\n",
       "      <th>alive</th>\n",
       "      <th>alone</th>\n",
       "    </tr>\n",
       "  </thead>\n",
       "  <tbody>\n",
       "    <tr>\n",
       "      <th>0</th>\n",
       "      <td>0</td>\n",
       "      <td>3</td>\n",
       "      <td>male</td>\n",
       "      <td>22.0</td>\n",
       "      <td>1</td>\n",
       "      <td>0</td>\n",
       "      <td>7.2500</td>\n",
       "      <td>S</td>\n",
       "      <td>Third</td>\n",
       "      <td>man</td>\n",
       "      <td>True</td>\n",
       "      <td>NaN</td>\n",
       "      <td>Southampton</td>\n",
       "      <td>no</td>\n",
       "      <td>False</td>\n",
       "    </tr>\n",
       "    <tr>\n",
       "      <th>1</th>\n",
       "      <td>1</td>\n",
       "      <td>1</td>\n",
       "      <td>female</td>\n",
       "      <td>38.0</td>\n",
       "      <td>1</td>\n",
       "      <td>0</td>\n",
       "      <td>71.2833</td>\n",
       "      <td>C</td>\n",
       "      <td>First</td>\n",
       "      <td>woman</td>\n",
       "      <td>False</td>\n",
       "      <td>C</td>\n",
       "      <td>Cherbourg</td>\n",
       "      <td>yes</td>\n",
       "      <td>False</td>\n",
       "    </tr>\n",
       "    <tr>\n",
       "      <th>2</th>\n",
       "      <td>1</td>\n",
       "      <td>3</td>\n",
       "      <td>female</td>\n",
       "      <td>26.0</td>\n",
       "      <td>0</td>\n",
       "      <td>0</td>\n",
       "      <td>7.9250</td>\n",
       "      <td>S</td>\n",
       "      <td>Third</td>\n",
       "      <td>woman</td>\n",
       "      <td>False</td>\n",
       "      <td>NaN</td>\n",
       "      <td>Southampton</td>\n",
       "      <td>yes</td>\n",
       "      <td>True</td>\n",
       "    </tr>\n",
       "    <tr>\n",
       "      <th>3</th>\n",
       "      <td>1</td>\n",
       "      <td>1</td>\n",
       "      <td>female</td>\n",
       "      <td>35.0</td>\n",
       "      <td>1</td>\n",
       "      <td>0</td>\n",
       "      <td>53.1000</td>\n",
       "      <td>S</td>\n",
       "      <td>First</td>\n",
       "      <td>woman</td>\n",
       "      <td>False</td>\n",
       "      <td>C</td>\n",
       "      <td>Southampton</td>\n",
       "      <td>yes</td>\n",
       "      <td>False</td>\n",
       "    </tr>\n",
       "    <tr>\n",
       "      <th>4</th>\n",
       "      <td>0</td>\n",
       "      <td>3</td>\n",
       "      <td>male</td>\n",
       "      <td>35.0</td>\n",
       "      <td>0</td>\n",
       "      <td>0</td>\n",
       "      <td>8.0500</td>\n",
       "      <td>S</td>\n",
       "      <td>Third</td>\n",
       "      <td>man</td>\n",
       "      <td>True</td>\n",
       "      <td>NaN</td>\n",
       "      <td>Southampton</td>\n",
       "      <td>no</td>\n",
       "      <td>True</td>\n",
       "    </tr>\n",
       "  </tbody>\n",
       "</table>\n",
       "</div>"
      ],
      "text/plain": [
       "   survived  pclass     sex   age  sibsp  parch     fare embarked  class  \\\n",
       "0         0       3    male  22.0      1      0   7.2500        S  Third   \n",
       "1         1       1  female  38.0      1      0  71.2833        C  First   \n",
       "2         1       3  female  26.0      0      0   7.9250        S  Third   \n",
       "3         1       1  female  35.0      1      0  53.1000        S  First   \n",
       "4         0       3    male  35.0      0      0   8.0500        S  Third   \n",
       "\n",
       "     who  adult_male deck  embark_town alive  alone  \n",
       "0    man        True  NaN  Southampton    no  False  \n",
       "1  woman       False    C    Cherbourg   yes  False  \n",
       "2  woman       False  NaN  Southampton   yes   True  \n",
       "3  woman       False    C  Southampton   yes  False  \n",
       "4    man        True  NaN  Southampton    no   True  "
      ]
     },
     "execution_count": 85,
     "metadata": {},
     "output_type": "execute_result"
    }
   ],
   "source": [
    "titanic=sns.load_dataset('titanic')\n",
    "titanic.head()"
   ]
  },
  {
   "cell_type": "markdown",
   "id": "aaf76ff3",
   "metadata": {
    "id": "aaf76ff3"
   },
   "source": [
    "### 문제 [4-1] - 8점"
   ]
  },
  {
   "cell_type": "markdown",
   "id": "50aa4759",
   "metadata": {
    "id": "50aa4759"
   },
   "source": [
    "titanic에서 열별 결측치 여부를 확인하고, 결측치가 존재한다면 결측치를 해당 열의 평균값으로 채우세요."
   ]
  },
  {
   "cell_type": "code",
   "execution_count": 86,
   "id": "59b4b449",
   "metadata": {
    "id": "59b4b449"
   },
   "outputs": [
    {
     "name": "stdout",
     "output_type": "stream",
     "text": [
      "<class 'pandas.core.frame.DataFrame'>\n",
      "RangeIndex: 891 entries, 0 to 890\n",
      "Data columns (total 15 columns):\n",
      " #   Column       Non-Null Count  Dtype   \n",
      "---  ------       --------------  -----   \n",
      " 0   survived     891 non-null    int64   \n",
      " 1   pclass       891 non-null    int64   \n",
      " 2   sex          891 non-null    object  \n",
      " 3   age          714 non-null    float64 \n",
      " 4   sibsp        891 non-null    int64   \n",
      " 5   parch        891 non-null    int64   \n",
      " 6   fare         891 non-null    float64 \n",
      " 7   embarked     889 non-null    object  \n",
      " 8   class        891 non-null    category\n",
      " 9   who          891 non-null    object  \n",
      " 10  adult_male   891 non-null    bool    \n",
      " 11  deck         203 non-null    category\n",
      " 12  embark_town  889 non-null    object  \n",
      " 13  alive        891 non-null    object  \n",
      " 14  alone        891 non-null    bool    \n",
      "dtypes: bool(2), category(2), float64(2), int64(4), object(5)\n",
      "memory usage: 80.7+ KB\n",
      "None\n"
     ]
    }
   ],
   "source": [
    "print(titanic.info())"
   ]
  },
  {
   "cell_type": "code",
   "execution_count": 87,
   "id": "cc198f01",
   "metadata": {},
   "outputs": [
    {
     "name": "stdout",
     "output_type": "stream",
     "text": [
      "embarked\n",
      "S    644\n",
      "C    168\n",
      "Q     77\n",
      "Name: count, dtype: int64\n",
      "deck\n",
      "C    59\n",
      "B    47\n",
      "D    33\n",
      "E    32\n",
      "A    15\n",
      "F    13\n",
      "G     4\n",
      "Name: count, dtype: int64\n",
      "embark_town\n",
      "Southampton    644\n",
      "Cherbourg      168\n",
      "Queenstown      77\n",
      "Name: count, dtype: int64\n"
     ]
    }
   ],
   "source": [
    "print(titanic['embarked'].value_counts())\n",
    "print(titanic['deck'].value_counts())\n",
    "print(titanic['embark_town'].value_counts())"
   ]
  },
  {
   "cell_type": "code",
   "execution_count": 88,
   "id": "5f4e0e27",
   "metadata": {},
   "outputs": [
    {
     "name": "stdout",
     "output_type": "stream",
     "text": [
      "<class 'pandas.core.frame.DataFrame'>\n",
      "RangeIndex: 891 entries, 0 to 890\n",
      "Data columns (total 15 columns):\n",
      " #   Column       Non-Null Count  Dtype   \n",
      "---  ------       --------------  -----   \n",
      " 0   survived     891 non-null    int64   \n",
      " 1   pclass       891 non-null    int64   \n",
      " 2   sex          891 non-null    object  \n",
      " 3   age          891 non-null    float64 \n",
      " 4   sibsp        891 non-null    int64   \n",
      " 5   parch        891 non-null    int64   \n",
      " 6   fare         891 non-null    float64 \n",
      " 7   embarked     889 non-null    object  \n",
      " 8   class        891 non-null    category\n",
      " 9   who          891 non-null    object  \n",
      " 10  adult_male   891 non-null    bool    \n",
      " 11  deck         203 non-null    category\n",
      " 12  embark_town  889 non-null    object  \n",
      " 13  alive        891 non-null    object  \n",
      " 14  alone        891 non-null    bool    \n",
      "dtypes: bool(2), category(2), float64(2), int64(4), object(5)\n",
      "memory usage: 80.7+ KB\n",
      "None\n"
     ]
    }
   ],
   "source": [
    "titanic_age_mean = np.mean(titanic['age'])\n",
    "titanic['age'] = titanic['age'].fillna(titanic_age_mean)\n",
    "\n",
    "# titanic_embarked_dict = dict(titanic['embarked'].value_counts())\n",
    "# titanic['embarked'] = titanic['embarked'].fillna('S')\n",
    "\n",
    "# titanic_deck_dict = dict(titanic['deck'].value_counts())\n",
    "# titanic['deck'] = titanic['deck'].fillna('C')\n",
    "\n",
    "# titanic_embark_town_dict = dict(titanic['embark_town'].value_counts())\n",
    "# titanic['embark_town'] = titanic['embark_town'].fillna('Southampton')\n",
    "\n",
    "print(titanic.info())"
   ]
  },
  {
   "cell_type": "markdown",
   "id": "af010f1a",
   "metadata": {
    "id": "af010f1a"
   },
   "source": [
    "### 문제 [4-2] - 점수 7점\n",
    "titanic의 각 열에서 결측치가 아닌 데이터가 250개 이상이 되지 않는 경우, 이 열을 삭제한 후 df에 저장하세요."
   ]
  },
  {
   "cell_type": "code",
   "execution_count": 90,
   "id": "242db391",
   "metadata": {
    "id": "242db391"
   },
   "outputs": [
    {
     "name": "stdout",
     "output_type": "stream",
     "text": [
      "<class 'pandas.core.frame.DataFrame'>\n",
      "RangeIndex: 891 entries, 0 to 890\n",
      "Data columns (total 12 columns):\n",
      " #   Column      Non-Null Count  Dtype   \n",
      "---  ------      --------------  -----   \n",
      " 0   survived    891 non-null    int64   \n",
      " 1   pclass      891 non-null    int64   \n",
      " 2   sex         891 non-null    object  \n",
      " 3   age         891 non-null    float64 \n",
      " 4   sibsp       891 non-null    int64   \n",
      " 5   parch       891 non-null    int64   \n",
      " 6   fare        891 non-null    float64 \n",
      " 7   class       891 non-null    category\n",
      " 8   who         891 non-null    object  \n",
      " 9   adult_male  891 non-null    bool    \n",
      " 10  alive       891 non-null    object  \n",
      " 11  alone       891 non-null    bool    \n",
      "dtypes: bool(2), category(1), float64(2), int64(4), object(3)\n",
      "memory usage: 65.5+ KB\n",
      "None\n"
     ]
    }
   ],
   "source": [
    "drop_features = ['embarked', 'deck', 'embark_town']\n",
    "\n",
    "titanic = titanic.drop(drop_features, axis= 1)\n",
    "\n",
    "print(titanic.info())"
   ]
  },
  {
   "cell_type": "markdown",
   "id": "ac148480",
   "metadata": {
    "id": "ac148480"
   },
   "source": [
    "### 문제 [4-3] - 5점\n",
    "\n",
    "* 수치형 데이터의 열별 분포를 간략히 요약해 나타내세요.\n",
    "\n",
    "* 평균, 최댓값, 사분위수 등"
   ]
  },
  {
   "cell_type": "code",
   "execution_count": 93,
   "id": "df5c2a12",
   "metadata": {
    "id": "df5c2a12"
   },
   "outputs": [
    {
     "name": "stdout",
     "output_type": "stream",
     "text": [
      "칼럼명 : survived, 평균 : 0.3838383838383838, 최댓값 : 1, 최솟값 : 0, 중간값 : 0.0, Q1 : 0.0, Q3 : 1.0\n",
      "칼럼명 : pclass, 평균 : 2.308641975308642, 최댓값 : 3, 최솟값 : 1, 중간값 : 3.0, Q1 : 2.0, Q3 : 3.0\n",
      "칼럼명 : age, 평균 : 29.69911764705882, 최댓값 : 80.0, 최솟값 : 0.42, 중간값 : 29.69911764705882, Q1 : 22.0, Q3 : 35.0\n",
      "칼럼명 : sibsp, 평균 : 0.5230078563411896, 최댓값 : 8, 최솟값 : 0, 중간값 : 0.0, Q1 : 0.0, Q3 : 1.0\n",
      "칼럼명 : parch, 평균 : 0.38159371492704824, 최댓값 : 6, 최솟값 : 0, 중간값 : 0.0, Q1 : 0.0, Q3 : 0.0\n",
      "칼럼명 : fare, 평균 : 32.204207968574636, 최댓값 : 512.3292, 최솟값 : 0.0, 중간값 : 14.4542, Q1 : 7.9104, Q3 : 31.0\n"
     ]
    }
   ],
   "source": [
    "float_features = ['survived', 'pclass', 'age', 'sibsp', 'parch', 'fare']\n",
    "\n",
    "def summary_feat(df:pd.DataFrame, col:str):\n",
    "    mean = np.mean(df[col])\n",
    "    maximum = np.max(df[col])\n",
    "    minimum = np.min(df[col])\n",
    "    median = np.median(df[col])\n",
    "    quantile_1 = np.quantile(df[col], 0.25)\n",
    "    quantile_3 = np.quantile(df[col], 0.75)\n",
    "\n",
    "    return mean, maximum, minimum, median, quantile_1, quantile_3\n",
    "\n",
    "for item in float_features:\n",
    "    mean, maximum, minimum, median, quantile_1, quantile_3 = summary_feat(titanic, item)\n",
    "    print(f\"칼럼명 : {item}, 평균 : {mean}, 최댓값 : {maximum}, 최솟값 : {minimum}, 중간값 : {median}, Q1 : {quantile_1}, Q3 : {quantile_3}\")"
   ]
  },
  {
   "cell_type": "markdown",
   "id": "20130a96",
   "metadata": {
    "id": "20130a96"
   },
   "source": [
    "### 문제 [4-4] - 6점"
   ]
  },
  {
   "cell_type": "markdown",
   "id": "9f5bb31c",
   "metadata": {
    "id": "9f5bb31c"
   },
   "source": [
    "titanic에서 sex와 pclass 별 생존율을 구하세요."
   ]
  },
  {
   "cell_type": "code",
   "execution_count": 103,
   "id": "d4596b19",
   "metadata": {
    "id": "d4596b19"
   },
   "outputs": [
    {
     "name": "stdout",
     "output_type": "stream",
     "text": [
      "{'sex_male_survive_rate': 18.890814558058924, 'sex_female_survive_rate': 74.20382165605096}\n",
      "{'pclass_3_survive_rate': 24.236252545824847, 'pclass_1_survive_rate': 62.96296296296296, 'pclass_2_survive_rate': 47.28260869565217}\n"
     ]
    }
   ],
   "source": [
    "## sex 별 생존율\n",
    "\n",
    "def survive_rate(df:pd.DataFrame, col:str):\n",
    "    X = df[col].unique()\n",
    "    vals_dict = {}\n",
    "    for x in X:\n",
    "        temp_val = None\n",
    "        temp_val = titanic.loc[titanic[col] == x, 'survived']\n",
    "        x_mean = np.mean(temp_val * 100)\n",
    "        vals_dict[f'{col}_{x}_survive_rate'] = x_mean\n",
    "    \n",
    "    return vals_dict\n",
    "    \n",
    "sex_survive = survive_rate(titanic, 'sex')\n",
    "print(sex_survive)\n",
    "pclass_survive = survive_rate(titanic, 'pclass')\n",
    "print(pclass_survive)\n",
    "# print(titanic_male_survive_rate)"
   ]
  },
  {
   "cell_type": "markdown",
   "id": "0559e325",
   "metadata": {
    "id": "0559e325"
   },
   "source": [
    "### 문제 [4-5] - 8점\n",
    "\n",
    "* pclass 별 사망과 생존 수치를 막대그래프로 나타내세요.\n",
    "\n",
    "* sex 별 사망과 생존 수치를 막대그래프로 나타내세요.\n",
    "\n",
    "* hint: countplot 함수 사용"
   ]
  },
  {
   "cell_type": "code",
   "execution_count": 110,
   "id": "73c087f0",
   "metadata": {
    "id": "73c087f0"
   },
   "outputs": [
    {
     "data": {
      "image/png": "[encoded data removed]",
      "text/plain": [
       "<Figure size 640x480 with 1 Axes>"
      ]
     },
     "metadata": {},
     "output_type": "display_data"
    }
   ],
   "source": [
    "import seaborn as sns\n",
    "\n",
    "titanic['survived'] = titanic['survived'].astype(str)\n",
    "ax = sns.countplot(x = \"pclass\", hue = \"survived\", data = titanic)"
   ]
  },
  {
   "cell_type": "code",
   "execution_count": 111,
   "id": "4c75f297",
   "metadata": {},
   "outputs": [
    {
     "data": {
      "image/png": "[encoded data removed]",
      "text/plain": [
       "<Figure size 640x480 with 1 Axes>"
      ]
     },
     "metadata": {},
     "output_type": "display_data"
    }
   ],
   "source": [
    "titanic['survived'] = titanic['survived'].astype(str)\n",
    "ax = sns.countplot(x = \"sex\", hue = \"survived\", data = titanic)"
   ]
  },
  {
   "cell_type": "markdown",
   "id": "6f13d342",
   "metadata": {
    "id": "6f13d342"
   },
   "source": [
    "### 문제 [4-6] - 8점\n",
    "\n",
    "* titanic에서 age가 20살 이상이면 adult로, 20살 미만이면 child로 나타내는 label열을 추가하세요.\n",
    "\n",
    "* hint: apply, lambda 함수 사용"
   ]
  },
  {
   "cell_type": "code",
   "execution_count": null,
   "id": "1a3ee694",
   "metadata": {},
   "outputs": [],
   "source": [
    "midwest['percent_types'] = 'None'\n",
    "\n",
    "# print(midwest.head())\n",
    "\n",
    "midwest.loc[midwest['percent'] >= 90, 'percent_types'] = 'large'\n",
    "midwest.loc[(midwest['percent'] >= 40) & (midwest['percent'] < 90), 'percent_types'] = 'middle'\n",
    "midwest.loc[(midwest['percent'] < 40), 'percent_types'] = 'small'\n",
    "\n",
    "# print(midwest.head())\n",
    "print(midwest['percent_types'].value_counts())"
   ]
  },
  {
   "cell_type": "code",
   "execution_count": 128,
   "id": "fbf30653",
   "metadata": {
    "id": "fbf30653"
   },
   "outputs": [
    {
     "name": "stdout",
     "output_type": "stream",
     "text": [
      "  survived  pclass     sex   age  sibsp  parch     fare  class    who  \\\n",
      "0        0       3    male  22.0      1      0   7.2500  Third    man   \n",
      "1        1       1  female  38.0      1      0  71.2833  First  woman   \n",
      "2        1       3  female  26.0      0      0   7.9250  Third  woman   \n",
      "3        1       1  female  35.0      1      0  53.1000  First  woman   \n",
      "4        0       3    male  35.0      0      0   8.0500  Third    man   \n",
      "\n",
      "   adult_male alive  alone  label  \n",
      "0        True    no  False  adult  \n",
      "1       False   yes  False  adult  \n",
      "2       False   yes   True  adult  \n",
      "3       False   yes  False  adult  \n",
      "4        True    no   True  adult  \n",
      "label\n",
      "adult    727\n",
      "child    164\n",
      "Name: count, dtype: int64\n"
     ]
    }
   ],
   "source": [
    "titanic['label'] = None\n",
    "\n",
    "titanic.loc[titanic['age'] >= 20, 'label'] = 'adult'\n",
    "titanic.loc[titanic['age'] < 20, 'label'] = 'child'\n",
    "\n",
    "# titanic['label'] = titanic['label'].apply(lambda x: 'adult')\n",
    "\n",
    "\n",
    "print(titanic.head())\n",
    "print(titanic['label'].value_counts())"
   ]
  },
  {
   "cell_type": "markdown",
   "id": "95fe19e1",
   "metadata": {
    "id": "95fe19e1"
   },
   "source": [
    "### 문제 [4-7] - 8점\n",
    "\n",
    "* titanic에서 pclass, sex, age, sibsp, parch, class 열만 뽑은 후, parch의 값이 0인 행만 titanic1에 저장하세요.\n",
    "\n",
    "* 이때 새롭게 만들어진 titanic1의 index는 0부터 다시 시작하도록 하세요.\n",
    "\n",
    "* hint: loc 함수 사용"
   ]
  },
  {
   "cell_type": "code",
   "execution_count": 135,
   "id": "bce482a4",
   "metadata": {
    "id": "bce482a4"
   },
   "outputs": [
    {
     "name": "stdout",
     "output_type": "stream",
     "text": [
      "     pclass     sex   age  sibsp  parch   class\n",
      "0         3    male  22.0      1      0   Third\n",
      "1         1  female  38.0      1      0   First\n",
      "2         3  female  26.0      0      0   Third\n",
      "3         1  female  35.0      1      0   First\n",
      "4         3    male  35.0      0      0   Third\n",
      "..      ...     ...   ...    ...    ...     ...\n",
      "884       3    male  25.0      0      0   Third\n",
      "886       2    male  27.0      0      0  Second\n",
      "887       1  female  19.0      0      0   First\n",
      "889       1    male  26.0      0      0   First\n",
      "890       3    male  32.0      0      0   Third\n",
      "\n",
      "[678 rows x 6 columns]\n"
     ]
    }
   ],
   "source": [
    "some_cols = ['pclass', 'sex', 'age', 'sibsp', 'parch', 'class']\n",
    "\n",
    "titanic1 = pd.DataFrame(titanic[some_cols])\n",
    "\n",
    "titanic1 = titanic1[(titanic1['parch'] == 0)]\n",
    "\n",
    "print(titanic1)"
   ]
  },
  {
   "cell_type": "markdown",
   "id": "9b82c726",
   "metadata": {
    "id": "9b82c726"
   },
   "source": [
    "# END\n",
    "\n",
    "## 수고하셨습니다:) 좋은 결과 있기를 바라며, 코딩테스트는 절대적 평가 기준이 아닙니다."
   ]
  }
 ],
 "metadata": {
  "colab": {
   "provenance": []
  },
  "kernelspec": {
   "display_name": "base",
   "language": "python",
   "name": "python3"
  },
  "language_info": {
   "codemirror_mode": {
    "name": "ipython",
    "version": 3
   },
   "file_extension": ".py",
   "mimetype": "text/x-python",
   "name": "python",
   "nbconvert_exporter": "python",
   "pygments_lexer": "ipython3",
   "version": "3.11.9"
  }
 },
 "nbformat": 4,
 "nbformat_minor": 5
}
